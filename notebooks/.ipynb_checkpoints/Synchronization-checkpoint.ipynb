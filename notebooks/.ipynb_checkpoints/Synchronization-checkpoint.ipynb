{
 "cells": [
  {
   "cell_type": "markdown",
   "metadata": {},
   "source": [
    "# Synchronization of ontology files\n",
    "In this notebook we can look at the current state of the synchronization system between ontology files from a version control system and a wikibase instance."
   ]
  },
  {
   "cell_type": "markdown",
   "metadata": {},
   "source": [
    "## Setup"
   ]
  },
  {
   "cell_type": "markdown",
   "metadata": {},
   "source": [
    "Setting up the Python path to import the module locally and starting the logging system."
   ]
  },
  {
   "cell_type": "code",
   "execution_count": 1,
   "metadata": {},
   "outputs": [
    {
     "name": "stderr",
     "output_type": "stream",
     "text": [
      "INFO:root:Starting logger\n"
     ]
    }
   ],
   "source": [
    "import logging\n",
    "import os\n",
    "import sys\n",
    "\n",
    "# set up module paths for imports\n",
    "module_path = os.path.abspath(os.path.join('..'))\n",
    "hercules_sync_path = os.path.abspath(os.path.join('..', 'hercules_sync'))\n",
    "sys.path.append(module_path)\n",
    "sys.path.append(hercules_sync_path)\n",
    "\n",
    "# start logging system and set logging level\n",
    "logger = logging.getLogger()\n",
    "logger.setLevel(logging.INFO)\n",
    "logging.info(\"Starting logger\")"
   ]
  },
  {
   "cell_type": "markdown",
   "metadata": {},
   "source": [
    "We can now start importing the dependencies from hercules_sync to execute the synchronization:\n",
    "* The GitFile class encapsulates the diff of a file before and after changes have been made.\n",
    "* We will use the GraphDiffSyncAlgorithm to obtain the differences from each ontology file. This algorithm parses the files into a graph and computes the difference between the original and the modified graph.\n",
    "* The OntologySynchronizer class uses the algorithm to return the list of operations that need to be executed in the triplestore."
   ]
  },
  {
   "cell_type": "code",
   "execution_count": 2,
   "metadata": {},
   "outputs": [],
   "source": [
    "from hercules_sync.git import GitFile\n",
    "from hercules_sync.synchronization import GraphDiffSyncAlgorithm, OntologySynchronizer\n",
    "\n",
    "algorithm = GraphDiffSyncAlgorithm()\n",
    "synchronizer = OntologySynchronizer(algorithm)"
   ]
  },
  {
   "cell_type": "markdown",
   "metadata": {},
   "source": [
    "We are making use of a URIs factory mock to store the URIs of each entity from wikibase. Since we are starting from scratch in this example, we will reset its internal state:"
   ]
  },
  {
   "cell_type": "code",
   "execution_count": 3,
   "metadata": {},
   "outputs": [],
   "source": [
    "from hercules_sync.external.uri_factory_mock import URIFactory\n",
    "\n",
    "factory = URIFactory()\n",
    "factory.reset_factory()"
   ]
  },
  {
   "cell_type": "markdown",
   "metadata": {},
   "source": [
    "Now we will create an instance of the WikibaseAdapter class to connect to our wikibase instance where the synchronization will be executed:"
   ]
  },
  {
   "cell_type": "code",
   "execution_count": 4,
   "metadata": {},
   "outputs": [
    {
     "name": "stdout",
     "output_type": "stream",
     "text": [
      "http://156.35.94.149:8181/w/api.php\n",
      "Successfully logged in as WikibaseAdmin\n"
     ]
    }
   ],
   "source": [
    "from hercules_sync.triplestore import WikibaseAdapter\n",
    "from secret import USERNAME, PASSWORD\n",
    "\n",
    "mediawiki_api_url='http://156.35.94.149:8181/w/api.php'\n",
    "sparql_endpoint_url='http://156.35.94.149:8282/proxy/wdqs/bigdata/namespace/wdq/sparql'\n",
    "\n",
    "adapter = WikibaseAdapter(mediawiki_api_url, sparql_endpoint_url, USERNAME, PASSWORD)"
   ]
  },
  {
   "cell_type": "markdown",
   "metadata": {},
   "source": [
    "Finally, we will create this helper function that executes the operations returned by the algorithm in the triplestore:"
   ]
  },
  {
   "cell_type": "code",
   "execution_count": 5,
   "metadata": {},
   "outputs": [],
   "source": [
    "def execute_synchronization(source_content, target_content, synchronizer, adapter):\n",
    "    gitfile = GitFile(None, source_content, target_content)\n",
    "    ops = synchronizer.synchronize(gitfile)\n",
    "    for op in ops:\n",
    "        res = op.execute(adapter)\n",
    "        if not res.successful:\n",
    "            print(f\"Error synchronizing triple: {res.message}\")"
   ]
  },
  {
   "cell_type": "markdown",
   "metadata": {},
   "source": [
    "## Adding content to the triplestore"
   ]
  },
  {
   "cell_type": "markdown",
   "metadata": {},
   "source": [
    "In order to simulate the initial commit of an ontology file, we will start with an empty string as the source content, and the target content will represent the contents of the file after the commit:"
   ]
  },
  {
   "cell_type": "code",
   "execution_count": 6,
   "metadata": {},
   "outputs": [],
   "source": [
    "source_content = \"\"\n",
    "\n",
    "target_content = \"\"\"\n",
    "#################################################################\n",
    "# Example ontology.                                             #\n",
    "# This file is used to test the CI and synchronization systems. #\n",
    "#################################################################\n",
    "\n",
    "@prefix ex: <http://www.semanticweb.org/spitxa/ontologies/2020/1/asio-human-resource#> .\n",
    "@prefix owl: <http://www.w3.org/2002/07/owl#> .\n",
    "@prefix rdf: <http://www.w3.org/1999/02/22-rdf-syntax-ns#> .\n",
    "@prefix rdfs: <http://www.w3.org/2000/01/rdf-schema#> .\n",
    "\n",
    "ex:AdministrativePersonnel rdf:type owl:Class ;\n",
    "                           rdfs:subClassOf  ex:HumanResource ;\n",
    "                           owl:disjointWith ex:ResearchPersonnel .\n",
    "\n",
    "ex:HumanResource rdf:type owl:Class .\n",
    "\n",
    "ex:ResearchPersonnel rdf:type owl:Class ;\n",
    "                     rdfs:subClassOf ex:HumanResource .\n",
    "\n",
    "ex:authors rdf:type owl:ObjectProperty .\n",
    "\"\"\""
   ]
  },
  {
   "cell_type": "markdown",
   "metadata": {},
   "source": [
    "Before executing the synchronization, we are going to briefly inspect the operations created by the algorithm first:"
   ]
  },
  {
   "cell_type": "code",
   "execution_count": 7,
   "metadata": {},
   "outputs": [
    {
     "data": {
      "text/plain": [
       "[<hercules_sync.synchronization.operations.AdditionOperation at 0x11325de10>,\n",
       " <hercules_sync.synchronization.operations.AdditionOperation at 0x11325db00>,\n",
       " <hercules_sync.synchronization.operations.AdditionOperation at 0x113277198>,\n",
       " <hercules_sync.synchronization.operations.AdditionOperation at 0x113277240>,\n",
       " <hercules_sync.synchronization.operations.AdditionOperation at 0x113277358>,\n",
       " <hercules_sync.synchronization.operations.AdditionOperation at 0x113277470>,\n",
       " <hercules_sync.synchronization.operations.AdditionOperation at 0x113277588>]"
      ]
     },
     "execution_count": 7,
     "metadata": {},
     "output_type": "execute_result"
    }
   ],
   "source": [
    "gitfile = GitFile(None, source_content, target_content)\n",
    "ops = synchronizer.synchronize(gitfile)\n",
    "\n",
    "ops"
   ]
  },
  {
   "cell_type": "code",
   "execution_count": 8,
   "metadata": {},
   "outputs": [
    {
     "data": {
      "text/plain": [
       "'AdditionOperation: URIElement: http://www.semanticweb.org/spitxa/ontologies/2020/1/asio-human-resource#authors - Type: property - URIElement: http://www.w3.org/1999/02/22-rdf-syntax-ns#type - Type: item - URIElement: http://www.w3.org/2002/07/owl#ObjectProperty - Type: item'"
      ]
     },
     "execution_count": 8,
     "metadata": {},
     "output_type": "execute_result"
    }
   ],
   "source": [
    "str(ops[-1])"
   ]
  },
  {
   "cell_type": "markdown",
   "metadata": {},
   "source": [
    "As we can see, we have 6 AdditionOperations to execute in the triplestore.\n",
    "<br><br>\n",
    "\n",
    "We can now execute the synchronization using the function defined in the setup section:"
   ]
  },
  {
   "cell_type": "code",
   "execution_count": 9,
   "metadata": {},
   "outputs": [
    {
     "name": "stderr",
     "output_type": "stream",
     "text": [
      "/Users/laika/Documents/envs/herc_sync/lib/python3.6/site-packages/wikidataintegrator/wdi_core.py:219: UserWarning: Warning: No distinct value properties found\n",
      "Please set P2302 and Q21502410 in your wikibase or set `core_props` manually.\n",
      "Continuing with no core_props\n",
      "  \"Continuing with no core_props\")\n",
      "/Users/laika/Documents/envs/herc_sync/lib/python3.6/site-packages/wikidataintegrator/wdi_core.py:175: UserWarning: mapping relation types are being ignored\n",
      "  warnings.warn(\"mapping relation types are being ignored\")\n"
     ]
    }
   ],
   "source": [
    "execute_synchronization(source_content, target_content, synchronizer, adapter)"
   ]
  },
  {
   "cell_type": "markdown",
   "metadata": {},
   "source": [
    "We can see below a sequence diagram of the complete process of adding new triples to the triplestore:\n",
    "\n",
    "![abc](img/herc_sync_sequence_new_triple.png)\n",
    "\n",
    "The process is equivalent to removing content from the triplestore, with the main difference that the 'remove_triple' method from WikibaseAdapter would be called instead."
   ]
  },
  {
   "cell_type": "markdown",
   "metadata": {},
   "source": [
    "## Modifying existing content"
   ]
  },
  {
   "cell_type": "markdown",
   "metadata": {},
   "source": [
    "Now we are going to simulate a change in the ontology file previously created. The following changes are introduced:\n",
    "* Add a new entity (ChangedPersonnel) of type owl:Class.\n",
    "* Add labels and description to the ResearchPersonnel entity.\n",
    "* Change the subclassOf property of ResearchPersonnel from HumanResource to ChangedPersonnel (for illustrative purposes).\n",
    "* Change the disjointWith property of AdministrativePersonnel from ResearchPersonnel to ChangedPersonnel.\n",
    "* Create a new 'authoredBy' property.\n",
    "* Set 'authors' as a subProperty of 'authoredBy'."
   ]
  },
  {
   "cell_type": "code",
   "execution_count": 10,
   "metadata": {},
   "outputs": [],
   "source": [
    "source_content = target_content\n",
    "\n",
    "target_content = \"\"\"\n",
    "#################################################################\n",
    "# Example ontology.                                             #\n",
    "# This file is used to test the CI and synchronization systems. #\n",
    "#################################################################\n",
    "\n",
    "@prefix ex: <http://www.semanticweb.org/spitxa/ontologies/2020/1/asio-human-resource#> .\n",
    "@prefix geo: <http://www.opengis.net/ont/geosparql#> .\n",
    "@prefix owl: <http://www.w3.org/2002/07/owl#> .\n",
    "@prefix rdf: <http://www.w3.org/1999/02/22-rdf-syntax-ns#> .\n",
    "@prefix rdfs: <http://www.w3.org/2000/01/rdf-schema#> .\n",
    "@prefix asio: <http://www.asio.es/asioontologies/asio#> .\n",
    "@prefix xsd: <http://www.w3.org/2001/XMLSchema#> .\n",
    "\n",
    "\n",
    "ex:AdministrativePersonnel rdf:type owl:Class ;\n",
    "                           rdfs:subClassOf  ex:HumanResource ;\n",
    "                           owl:disjointWith ex:ChangedPersonnel .\n",
    "\n",
    "ex:HumanResource rdf:type owl:Class .\n",
    "\n",
    "ex:ChangedPersonnel rdf:type owl:Class .\n",
    "\n",
    "ex:ResearchPersonnel rdf:type owl:Class ;\n",
    "                        rdfs:subClassOf ex:ChangedPersonnel ;\n",
    "                        rdfs:subClassOf ex:HumanResource ;\n",
    "                        ex:creationDate \"2019-12-31\"^^xsd:date ;\n",
    "                        rdfs:comment \"Personnel devoted to technical suport.\"@en ;\n",
    "                        rdfs:label \"Personal tècnic\"@ca ,\n",
    "                                   \"Personal técnico\"@es ,\n",
    "                                   \"Personnel technique\"@fr ,\n",
    "                                   \"Pessoal técnico\"@pt ,\n",
    "                                   \"Technical personnel\"@en .\n",
    "\n",
    "ex:authoredBy rdf:type owl:ObjectProperty .\n",
    "\n",
    "ex:authors rdf:type owl:ObjectProperty ;\n",
    "           rdfs:subPropertyOf ex:authoredBy .\n",
    "\n",
    "ex:location rdf:type owl:DatatypeProperty ;\n",
    "            rdfs:range geo:wktLiteral .\n",
    "\n",
    "ex:creationDate rdf:type owl:DatatypeProperty ;\n",
    "                rdfs:range xsd:date .\n",
    "\"\"\""
   ]
  },
  {
   "cell_type": "code",
   "execution_count": 11,
   "metadata": {},
   "outputs": [],
   "source": [
    "execute_synchronization(source_content, target_content, synchronizer, adapter)"
   ]
  },
  {
   "cell_type": "markdown",
   "metadata": {},
   "source": [
    "## Removing content"
   ]
  },
  {
   "cell_type": "markdown",
   "metadata": {},
   "source": [
    "Finally, we are going to remove some statements from our entities:\n",
    "* Remove type statement from the ChangedPersonnel entity.\n",
    "* Remove subclassOf statement from the ResearchPersonnel entity.\n",
    "* Remove label @pt from ResearchPersonnel.\n",
    "* Delete authors and authoredBy content."
   ]
  },
  {
   "cell_type": "code",
   "execution_count": 12,
   "metadata": {},
   "outputs": [],
   "source": [
    "source_content = target_content\n",
    "\n",
    "target_content = \"\"\"\n",
    "#################################################################\n",
    "# Example ontology.                                             #\n",
    "# This file is used to test the CI and synchronization systems. #\n",
    "#################################################################\n",
    "\n",
    "@prefix ex: <http://www.semanticweb.org/spitxa/ontologies/2020/1/asio-human-resource#> .\n",
    "@prefix geo: <http://www.opengis.net/ont/geosparql#> .\n",
    "@prefix owl: <http://www.w3.org/2002/07/owl#> .\n",
    "@prefix rdf: <http://www.w3.org/1999/02/22-rdf-syntax-ns#> .\n",
    "@prefix rdfs: <http://www.w3.org/2000/01/rdf-schema#> .\n",
    "@prefix asio: <http://www.asio.es/asioontologies/asio#> .\n",
    "@prefix xsd: <http://www.w3.org/2001/XMLSchema#> .\n",
    "\n",
    "\n",
    "ex:AdministrativePersonnel rdf:type owl:Class ;\n",
    "                           rdfs:subClassOf  ex:HumanResource ;\n",
    "                           owl:disjointWith ex:ChangedPersonnel .\n",
    "\n",
    "ex:HumanResource rdf:type owl:Class .\n",
    "\n",
    "ex:ResearchPersonnel rdf:type owl:Class ;\n",
    "                        rdfs:comment \"Personnel devoted to technical suport.\"@en ;\n",
    "                        rdfs:label \"Personal tècnic\"@ca ,\n",
    "                                   \"Personal técnico\"@es ,\n",
    "                                   \"Personnel technique\"@fr ,\n",
    "                                   \"Technical personnel\"@en .\n",
    "\"\"\""
   ]
  },
  {
   "cell_type": "code",
   "execution_count": 13,
   "metadata": {},
   "outputs": [],
   "source": [
    "execute_synchronization(source_content, target_content, synchronizer, adapter)"
   ]
  },
  {
   "cell_type": "markdown",
   "metadata": {},
   "source": [
    "# Testing synchronization of current ontology "
   ]
  },
  {
   "cell_type": "code",
   "execution_count": 6,
   "metadata": {},
   "outputs": [],
   "source": [
    "import requests\n",
    "\n",
    "source_content = \"\"\n",
    "\n",
    "target_content = requests.get('http://www.weso.es/hercules-ontology/asio.ttl').text"
   ]
  },
  {
   "cell_type": "code",
   "execution_count": null,
   "metadata": {},
   "outputs": [
    {
     "name": "stderr",
     "output_type": "stream",
     "text": [
      "/Users/alejandro/anaconda3/envs/weso/lib/python3.7/site-packages/wikidataintegrator/wdi_core.py:218: UserWarning: Warning: No distinct value properties found\n",
      "Please set P2302 and Q21502410 in your wikibase or set `core_props` manually.\n",
      "Continuing with no core_props\n",
      "  \"Please set P2302 and Q21502410 in your wikibase or set `core_props` manually.\\n\" +\n",
      "/Users/alejandro/anaconda3/envs/weso/lib/python3.7/site-packages/wikidataintegrator/wdi_core.py:175: UserWarning: mapping relation types are being ignored\n",
      "  warnings.warn(\"mapping relation types are being ignored\")\n"
     ]
    },
    {
     "name": "stdout",
     "output_type": "stream",
     "text": [
      "Error while writing to Wikidata\n",
      "Error while writing to Wikidata\n"
     ]
    },
    {
     "name": "stderr",
     "output_type": "stream",
     "text": [
      "WARNING:root:URI URIElement: http://nuts.geovocab.org/id/ES413 - Type: item doesn't contain a '#' separator. Default label can't be inferred.\n"
     ]
    },
    {
     "name": "stdout",
     "output_type": "stream",
     "text": [
      "Error while writing to Wikidata\n",
      "Error while writing to Wikidata\n",
      "Error while writing to Wikidata\n",
      "Error while writing to Wikidata\n",
      "Error while writing to Wikidata\n"
     ]
    },
    {
     "name": "stderr",
     "output_type": "stream",
     "text": [
      "WARNING:hercules_sync.triplestore.wikibase_adapter:Language was not recognized. Skipping it...\n"
     ]
    },
    {
     "name": "stdout",
     "output_type": "stream",
     "text": [
      "Error while writing to Wikidata\n",
      "Error while writing to Wikidata\n",
      "Error while writing to Wikidata\n"
     ]
    },
    {
     "name": "stderr",
     "output_type": "stream",
     "text": [
      "WARNING:root:URI URIElement: http://semanticscience.org/resource/TechnicalReport - Type: item doesn't contain a '#' separator. Default label can't be inferred.\n"
     ]
    },
    {
     "name": "stdout",
     "output_type": "stream",
     "text": [
      "Error while writing to Wikidata\n",
      "Error while writing to Wikidata\n",
      "Error while writing to Wikidata\n",
      "Error while writing to Wikidata\n",
      "Error while writing to Wikidata\n"
     ]
    },
    {
     "name": "stderr",
     "output_type": "stream",
     "text": [
      "WARNING:hercules_sync.triplestore.wikibase_adapter:Language was not recognized. Skipping it...\n"
     ]
    },
    {
     "name": "stdout",
     "output_type": "stream",
     "text": [
      "Error while writing to Wikidata\n",
      "Error while writing to Wikidata\n"
     ]
    },
    {
     "name": "stderr",
     "output_type": "stream",
     "text": [
      "WARNING:root:URI URIElement: http://publications.europa.eu/resource/authority/country/AND - Type: item doesn't contain a '#' separator. Default label can't be inferred.\n"
     ]
    },
    {
     "name": "stdout",
     "output_type": "stream",
     "text": [
      "Error while writing to Wikidata\n",
      "Error while writing to Wikidata\n",
      "Error while writing to Wikidata\n"
     ]
    },
    {
     "name": "stderr",
     "output_type": "stream",
     "text": [
      "WARNING:hercules_sync.triplestore.wikibase_adapter:Language was not recognized. Skipping it...\n"
     ]
    },
    {
     "name": "stdout",
     "output_type": "stream",
     "text": [
      "Error while writing to Wikidata\n",
      "Error while writing to Wikidata\n",
      "Error while writing to Wikidata\n"
     ]
    },
    {
     "name": "stderr",
     "output_type": "stream",
     "text": [
      "WARNING:root:URI URIElement: http://nuts.geovocab.org/id/ES23 - Type: item doesn't contain a '#' separator. Default label can't be inferred.\n",
      "WARNING:root:URI URIElement: http://nuts.geovocab.org/id/ES2 - Type: item doesn't contain a '#' separator. Default label can't be inferred.\n"
     ]
    },
    {
     "name": "stdout",
     "output_type": "stream",
     "text": [
      "Error while writing to Wikidata\n",
      "Error while writing to Wikidata\n",
      "Error while writing to Wikidata\n",
      "Error while writing to Wikidata\n",
      "Error while writing to Wikidata\n"
     ]
    },
    {
     "name": "stderr",
     "output_type": "stream",
     "text": [
      "WARNING:root:URI URIElement: http://purl.org/dc/terms/publisher - Type: property doesn't contain a '#' separator. Default label can't be inferred.\n"
     ]
    },
    {
     "name": "stdout",
     "output_type": "stream",
     "text": [
      "Error while writing to Wikidata\n"
     ]
    },
    {
     "name": "stderr",
     "output_type": "stream",
     "text": [
      "WARNING:root:URI URIElement: http://nuts.geovocab.org/id/ES30 - Type: item doesn't contain a '#' separator. Default label can't be inferred.\n"
     ]
    },
    {
     "name": "stdout",
     "output_type": "stream",
     "text": [
      "Error while writing to Wikidata\n",
      "Error while writing to Wikidata\n"
     ]
    },
    {
     "name": "stderr",
     "output_type": "stream",
     "text": [
      "WARNING:hercules_sync.triplestore.wikibase_adapter:Language was not recognized. Skipping it...\n"
     ]
    },
    {
     "name": "stdout",
     "output_type": "stream",
     "text": [
      "Error while writing to Wikidata\n",
      "Error while writing to Wikidata\n",
      "Error while writing to Wikidata\n",
      "Error while writing to Wikidata\n",
      "Error while writing to Wikidata\n"
     ]
    },
    {
     "name": "stderr",
     "output_type": "stream",
     "text": [
      "WARNING:root:URI URIElement: http://publications.europa.eu/resource/authority/country/PRT - Type: item doesn't contain a '#' separator. Default label can't be inferred.\n"
     ]
    },
    {
     "name": "stdout",
     "output_type": "stream",
     "text": [
      "Error while writing to Wikidata\n"
     ]
    },
    {
     "name": "stderr",
     "output_type": "stream",
     "text": [
      "WARNING:hercules_sync.triplestore.wikibase_adapter:Language was not recognized. Skipping it...\n"
     ]
    },
    {
     "name": "stdout",
     "output_type": "stream",
     "text": [
      "Error while writing to Wikidata\n",
      "Error while writing to Wikidata\n",
      "Error while writing to Wikidata\n",
      "Error while writing to Wikidata\n",
      "Error while writing to Wikidata\n"
     ]
    },
    {
     "name": "stderr",
     "output_type": "stream",
     "text": [
      "WARNING:hercules_sync.triplestore.wikibase_adapter:Language was not recognized. Skipping it...\n"
     ]
    },
    {
     "name": "stdout",
     "output_type": "stream",
     "text": [
      "Error while writing to Wikidata\n"
     ]
    },
    {
     "name": "stderr",
     "output_type": "stream",
     "text": [
      "WARNING:hercules_sync.triplestore.wikibase_adapter:Language was not recognized. Skipping it...\n"
     ]
    },
    {
     "name": "stdout",
     "output_type": "stream",
     "text": [
      "Error while writing to Wikidata\n"
     ]
    },
    {
     "name": "stderr",
     "output_type": "stream",
     "text": [
      "WARNING:root:URI URIElement: http://nuts.geovocab.org/id/ES112 - Type: item doesn't contain a '#' separator. Default label can't be inferred.\n"
     ]
    },
    {
     "name": "stdout",
     "output_type": "stream",
     "text": [
      "Error while writing to Wikidata\n",
      "Error while writing to Wikidata\n"
     ]
    },
    {
     "name": "stderr",
     "output_type": "stream",
     "text": [
      "WARNING:root:URI URIElement: http://nuts.geovocab.org/id/ES13 - Type: item doesn't contain a '#' separator. Default label can't be inferred.\n"
     ]
    },
    {
     "name": "stdout",
     "output_type": "stream",
     "text": [
      "Error while writing to Wikidata\n",
      "Error while writing to Wikidata\n",
      "Error while writing to Wikidata\n",
      "Error while writing to Wikidata\n",
      "Error while writing to Wikidata\n",
      "Error while writing to Wikidata\n",
      "Error while writing to Wikidata\n",
      "Error while writing to Wikidata\n",
      "Error while writing to Wikidata\n"
     ]
    },
    {
     "name": "stderr",
     "output_type": "stream",
     "text": [
      "WARNING:hercules_sync.triplestore.wikibase_adapter:Language was not recognized. Skipping it...\n"
     ]
    },
    {
     "name": "stdout",
     "output_type": "stream",
     "text": [
      "Error while writing to Wikidata\n"
     ]
    },
    {
     "name": "stderr",
     "output_type": "stream",
     "text": [
      "WARNING:hercules_sync.triplestore.wikibase_adapter:Language was not recognized. Skipping it...\n"
     ]
    },
    {
     "name": "stdout",
     "output_type": "stream",
     "text": [
      "Error while writing to Wikidata\n",
      "Error while writing to Wikidata\n",
      "Error while writing to Wikidata\n",
      "Error while writing to Wikidata\n",
      "Error while writing to Wikidata\n",
      "Error while writing to Wikidata\n",
      "Error while writing to Wikidata\n",
      "Error while writing to Wikidata\n",
      "Error while writing to Wikidata\n",
      "Error while writing to Wikidata\n",
      "Error while writing to Wikidata\n"
     ]
    },
    {
     "name": "stderr",
     "output_type": "stream",
     "text": [
      "WARNING:hercules_sync.triplestore.wikibase_adapter:Language was not recognized. Skipping it...\n"
     ]
    },
    {
     "name": "stdout",
     "output_type": "stream",
     "text": [
      "Error while writing to Wikidata\n",
      "Error while writing to Wikidata\n",
      "Error while writing to Wikidata\n"
     ]
    },
    {
     "name": "stderr",
     "output_type": "stream",
     "text": [
      "WARNING:hercules_sync.triplestore.wikibase_adapter:Language was not recognized. Skipping it...\n"
     ]
    },
    {
     "name": "stdout",
     "output_type": "stream",
     "text": [
      "Error while writing to Wikidata\n",
      "Error while writing to Wikidata\n",
      "Error while writing to Wikidata\n",
      "Error while writing to Wikidata\n",
      "Error while writing to Wikidata\n",
      "Error while writing to Wikidata\n",
      "Error while writing to Wikidata\n",
      "Error while writing to Wikidata\n"
     ]
    },
    {
     "name": "stderr",
     "output_type": "stream",
     "text": [
      "WARNING:root:URI URIElement: http://nuts.geovocab.org/id/ES241 - Type: item doesn't contain a '#' separator. Default label can't be inferred.\n",
      "WARNING:root:URI URIElement: http://nuts.geovocab.org/id/ES24 - Type: item doesn't contain a '#' separator. Default label can't be inferred.\n"
     ]
    },
    {
     "name": "stdout",
     "output_type": "stream",
     "text": [
      "Error while writing to Wikidata\n",
      "Error while writing to Wikidata\n",
      "Error while writing to Wikidata\n",
      "Error while writing to Wikidata\n",
      "Error while writing to Wikidata\n",
      "Error while writing to Wikidata\n",
      "Error while writing to Wikidata\n"
     ]
    },
    {
     "name": "stderr",
     "output_type": "stream",
     "text": [
      "WARNING:hercules_sync.triplestore.wikibase_adapter:Language was not recognized. Skipping it...\n"
     ]
    },
    {
     "name": "stdout",
     "output_type": "stream",
     "text": [
      "Error while writing to Wikidata\n",
      "Error while writing to Wikidata\n",
      "Error while writing to Wikidata\n",
      "Error while writing to Wikidata\n"
     ]
    },
    {
     "name": "stderr",
     "output_type": "stream",
     "text": [
      "WARNING:root:URI URIElement: http://publications.europa.eu/resource/authority/country/ESP - Type: item doesn't contain a '#' separator. Default label can't be inferred.\n"
     ]
    },
    {
     "name": "stdout",
     "output_type": "stream",
     "text": [
      "Error while writing to Wikidata\n"
     ]
    },
    {
     "name": "stderr",
     "output_type": "stream",
     "text": [
      "WARNING:hercules_sync.triplestore.wikibase_adapter:Language was not recognized. Skipping it...\n"
     ]
    },
    {
     "name": "stdout",
     "output_type": "stream",
     "text": [
      "Error while writing to Wikidata\n"
     ]
    },
    {
     "name": "stderr",
     "output_type": "stream",
     "text": [
      "WARNING:hercules_sync.triplestore.wikibase_adapter:Language was not recognized. Skipping it...\n"
     ]
    },
    {
     "name": "stdout",
     "output_type": "stream",
     "text": [
      "Error while writing to Wikidata\n",
      "Error while writing to Wikidata\n"
     ]
    },
    {
     "name": "stderr",
     "output_type": "stream",
     "text": [
      "WARNING:hercules_sync.triplestore.wikibase_adapter:Language was not recognized. Skipping it...\n"
     ]
    },
    {
     "name": "stdout",
     "output_type": "stream",
     "text": [
      "Error while writing to Wikidata\n",
      "Error while writing to Wikidata\n"
     ]
    },
    {
     "name": "stderr",
     "output_type": "stream",
     "text": [
      "WARNING:hercules_sync.triplestore.wikibase_adapter:Language was not recognized. Skipping it...\n"
     ]
    },
    {
     "name": "stdout",
     "output_type": "stream",
     "text": [
      "Error while writing to Wikidata\n"
     ]
    },
    {
     "name": "stderr",
     "output_type": "stream",
     "text": [
      "WARNING:hercules_sync.triplestore.wikibase_adapter:Language was not recognized. Skipping it...\n"
     ]
    },
    {
     "name": "stdout",
     "output_type": "stream",
     "text": [
      "Error while writing to Wikidata\n",
      "Error while writing to Wikidata\n",
      "Error while writing to Wikidata\n",
      "Error while writing to Wikidata\n"
     ]
    },
    {
     "name": "stderr",
     "output_type": "stream",
     "text": [
      "WARNING:hercules_sync.triplestore.wikibase_adapter:Language was not recognized. Skipping it...\n"
     ]
    },
    {
     "name": "stdout",
     "output_type": "stream",
     "text": [
      "Error while writing to Wikidata\n",
      "Error while writing to Wikidata\n"
     ]
    },
    {
     "name": "stderr",
     "output_type": "stream",
     "text": [
      "WARNING:hercules_sync.triplestore.wikibase_adapter:Language was not recognized. Skipping it...\n"
     ]
    },
    {
     "name": "stdout",
     "output_type": "stream",
     "text": [
      "Error while writing to Wikidata\n"
     ]
    },
    {
     "name": "stderr",
     "output_type": "stream",
     "text": [
      "WARNING:root:URI URIElement: http://purl.org/cerif/frapo/Funding - Type: item doesn't contain a '#' separator. Default label can't be inferred.\n"
     ]
    },
    {
     "name": "stdout",
     "output_type": "stream",
     "text": [
      "Error while writing to Wikidata\n"
     ]
    },
    {
     "name": "stderr",
     "output_type": "stream",
     "text": [
      "WARNING:root:URI URIElement: http://nuts.geovocab.org/id/ES512 - Type: item doesn't contain a '#' separator. Default label can't be inferred.\n"
     ]
    },
    {
     "name": "stdout",
     "output_type": "stream",
     "text": [
      "Error while writing to Wikidata\n",
      "Error while writing to Wikidata\n",
      "Error while writing to Wikidata\n",
      "Error while writing to Wikidata\n",
      "Error while writing to Wikidata\n",
      "Error while writing to Wikidata\n",
      "Error while writing to Wikidata\n",
      "Error while writing to Wikidata\n",
      "Error while writing to Wikidata\n",
      "Error while writing to Wikidata\n",
      "Error while writing to Wikidata\n",
      "Error while writing to Wikidata\n",
      "Error while writing to Wikidata\n",
      "Error while writing to Wikidata\n"
     ]
    },
    {
     "name": "stderr",
     "output_type": "stream",
     "text": [
      "WARNING:root:URI URIElement: http://xmlns.com/foaf/0.1/Person - Type: item doesn't contain a '#' separator. Default label can't be inferred.\n"
     ]
    },
    {
     "name": "stdout",
     "output_type": "stream",
     "text": [
      "Error while writing to Wikidata\n",
      "Error while writing to Wikidata\n",
      "Error while writing to Wikidata\n"
     ]
    },
    {
     "name": "stderr",
     "output_type": "stream",
     "text": [
      "WARNING:hercules_sync.triplestore.wikibase_adapter:Language was not recognized. Skipping it...\n"
     ]
    },
    {
     "name": "stdout",
     "output_type": "stream",
     "text": [
      "Error while writing to Wikidata\n",
      "Error while writing to Wikidata\n",
      "Error while writing to Wikidata\n",
      "Error while writing to Wikidata\n",
      "Error while writing to Wikidata\n",
      "Error while writing to Wikidata\n"
     ]
    },
    {
     "name": "stderr",
     "output_type": "stream",
     "text": [
      "WARNING:root:URI URIElement: http://nuts.geovocab.org/id/ES130 - Type: item doesn't contain a '#' separator. Default label can't be inferred.\n"
     ]
    },
    {
     "name": "stdout",
     "output_type": "stream",
     "text": [
      "Error while writing to Wikidata\n"
     ]
    },
    {
     "name": "stderr",
     "output_type": "stream",
     "text": [
      "WARNING:hercules_sync.triplestore.wikibase_adapter:Language was not recognized. Skipping it...\n"
     ]
    },
    {
     "name": "stdout",
     "output_type": "stream",
     "text": [
      "Error while writing to Wikidata\n",
      "Error while writing to Wikidata\n",
      "Error while writing to Wikidata\n"
     ]
    },
    {
     "name": "stderr",
     "output_type": "stream",
     "text": [
      "WARNING:hercules_sync.triplestore.wikibase_adapter:Language was not recognized. Skipping it...\n"
     ]
    },
    {
     "name": "stdout",
     "output_type": "stream",
     "text": [
      "Error while writing to Wikidata\n",
      "Error while writing to Wikidata\n"
     ]
    },
    {
     "name": "stderr",
     "output_type": "stream",
     "text": [
      "WARNING:hercules_sync.triplestore.wikibase_adapter:Language was not recognized. Skipping it...\n"
     ]
    },
    {
     "name": "stdout",
     "output_type": "stream",
     "text": [
      "Error while writing to Wikidata\n",
      "Error while writing to Wikidata\n",
      "Error while writing to Wikidata\n",
      "Error while writing to Wikidata\n"
     ]
    },
    {
     "name": "stderr",
     "output_type": "stream",
     "text": [
      "WARNING:hercules_sync.triplestore.wikibase_adapter:Language was not recognized. Skipping it...\n"
     ]
    },
    {
     "name": "stdout",
     "output_type": "stream",
     "text": [
      "Error while writing to Wikidata\n",
      "Error while writing to Wikidata\n",
      "Error while writing to Wikidata\n",
      "Error while writing to Wikidata\n",
      "Error while writing to Wikidata\n",
      "Error while writing to Wikidata\n",
      "Error while writing to Wikidata\n"
     ]
    },
    {
     "name": "stderr",
     "output_type": "stream",
     "text": [
      "WARNING:hercules_sync.triplestore.wikibase_adapter:Language was not recognized. Skipping it...\n"
     ]
    },
    {
     "name": "stdout",
     "output_type": "stream",
     "text": [
      "Error while writing to Wikidata\n",
      "Error while writing to Wikidata\n"
     ]
    },
    {
     "name": "stderr",
     "output_type": "stream",
     "text": [
      "WARNING:root:URI URIElement: http://nuts.geovocab.org/id/ES53 - Type: item doesn't contain a '#' separator. Default label can't be inferred.\n",
      "WARNING:root:URI URIElement: http://nuts.geovocab.org/id/ES530 - Type: item doesn't contain a '#' separator. Default label can't be inferred.\n"
     ]
    },
    {
     "name": "stdout",
     "output_type": "stream",
     "text": [
      "Error while writing to Wikidata\n"
     ]
    },
    {
     "name": "stderr",
     "output_type": "stream",
     "text": [
      "WARNING:root:URI URIElement: http://nuts.geovocab.org/id/ES3 - Type: item doesn't contain a '#' separator. Default label can't be inferred.\n"
     ]
    },
    {
     "name": "stdout",
     "output_type": "stream",
     "text": [
      "Error while writing to Wikidata\n"
     ]
    },
    {
     "name": "stderr",
     "output_type": "stream",
     "text": [
      "WARNING:hercules_sync.triplestore.wikibase_adapter:Language was not recognized. Skipping it...\n"
     ]
    },
    {
     "name": "stdout",
     "output_type": "stream",
     "text": [
      "Error while writing to Wikidata\n",
      "Error while writing to Wikidata\n"
     ]
    },
    {
     "name": "stderr",
     "output_type": "stream",
     "text": [
      "WARNING:root:URI URIElement: http://nuts.geovocab.org/id/ES618 - Type: item doesn't contain a '#' separator. Default label can't be inferred.\n"
     ]
    },
    {
     "name": "stdout",
     "output_type": "stream",
     "text": [
      "Error while writing to Wikidata\n",
      "Error while writing to Wikidata\n"
     ]
    },
    {
     "name": "stderr",
     "output_type": "stream",
     "text": [
      "WARNING:root:URI URIElement: http://nuts.geovocab.org/id/ES617 - Type: item doesn't contain a '#' separator. Default label can't be inferred.\n",
      "WARNING:hercules_sync.triplestore.wikibase_adapter:Language was not recognized. Skipping it...\n"
     ]
    },
    {
     "name": "stdout",
     "output_type": "stream",
     "text": [
      "Error while writing to Wikidata\n"
     ]
    },
    {
     "name": "stderr",
     "output_type": "stream",
     "text": [
      "WARNING:hercules_sync.triplestore.wikibase_adapter:Language was not recognized. Skipping it...\n"
     ]
    },
    {
     "name": "stdout",
     "output_type": "stream",
     "text": [
      "Error while writing to Wikidata\n",
      "Error while writing to Wikidata\n"
     ]
    },
    {
     "name": "stderr",
     "output_type": "stream",
     "text": [
      "WARNING:hercules_sync.triplestore.wikibase_adapter:Language was not recognized. Skipping it...\n"
     ]
    },
    {
     "name": "stdout",
     "output_type": "stream",
     "text": [
      "Error while writing to Wikidata\n",
      "Error while writing to Wikidata\n"
     ]
    },
    {
     "name": "stderr",
     "output_type": "stream",
     "text": [
      "WARNING:root:URI URIElement: http://nuts.geovocab.org/id/ES61 - Type: item doesn't contain a '#' separator. Default label can't be inferred.\n",
      "WARNING:root:URI URIElement: http://nuts.geovocab.org/id/ES120 - Type: item doesn't contain a '#' separator. Default label can't be inferred.\n"
     ]
    },
    {
     "name": "stdout",
     "output_type": "stream",
     "text": [
      "Error while writing to Wikidata\n",
      "Error while writing to Wikidata\n",
      "Error while writing to Wikidata\n",
      "Error while writing to Wikidata\n",
      "Error while writing to Wikidata\n",
      "Error while writing to Wikidata\n",
      "Error while writing to Wikidata\n"
     ]
    },
    {
     "name": "stderr",
     "output_type": "stream",
     "text": [
      "WARNING:root:URI URIElement: http://nuts.geovocab.org/id/ES611 - Type: item doesn't contain a '#' separator. Default label can't be inferred.\n"
     ]
    },
    {
     "name": "stdout",
     "output_type": "stream",
     "text": [
      "Error while writing to Wikidata\n",
      "Error while writing to Wikidata\n"
     ]
    },
    {
     "name": "stderr",
     "output_type": "stream",
     "text": [
      "WARNING:hercules_sync.triplestore.wikibase_adapter:Language was not recognized. Skipping it...\n"
     ]
    },
    {
     "name": "stdout",
     "output_type": "stream",
     "text": [
      "Error while writing to Wikidata\n"
     ]
    },
    {
     "name": "stderr",
     "output_type": "stream",
     "text": [
      "WARNING:hercules_sync.triplestore.wikibase_adapter:Language was not recognized. Skipping it...\n"
     ]
    },
    {
     "name": "stdout",
     "output_type": "stream",
     "text": [
      "Error while writing to Wikidata\n",
      "Error while writing to Wikidata\n",
      "Error while writing to Wikidata\n",
      "Error while writing to Wikidata\n",
      "Error while writing to Wikidata\n"
     ]
    },
    {
     "name": "stderr",
     "output_type": "stream",
     "text": [
      "WARNING:hercules_sync.triplestore.wikibase_adapter:Language was not recognized. Skipping it...\n"
     ]
    },
    {
     "name": "stdout",
     "output_type": "stream",
     "text": [
      "Error while writing to Wikidata\n",
      "Error while writing to Wikidata\n",
      "Error while writing to Wikidata\n",
      "Error while writing to Wikidata\n",
      "Error while writing to Wikidata\n"
     ]
    },
    {
     "name": "stderr",
     "output_type": "stream",
     "text": [
      "WARNING:root:URI URIElement: http://nuts.geovocab.org/id/ES12 - Type: item doesn't contain a '#' separator. Default label can't be inferred.\n",
      "WARNING:root:URI URIElement: http://nuts.geovocab.org/id/ES42 - Type: item doesn't contain a '#' separator. Default label can't be inferred.\n"
     ]
    },
    {
     "name": "stdout",
     "output_type": "stream",
     "text": [
      "Error while writing to Wikidata\n"
     ]
    },
    {
     "name": "stderr",
     "output_type": "stream",
     "text": [
      "WARNING:root:URI URIElement: http://dbpedia.org/ontology/Resume - Type: item doesn't contain a '#' separator. Default label can't be inferred.\n",
      "WARNING:hercules_sync.triplestore.wikibase_adapter:Language was not recognized. Skipping it...\n"
     ]
    },
    {
     "name": "stdout",
     "output_type": "stream",
     "text": [
      "Error while writing to Wikidata\n"
     ]
    },
    {
     "name": "stderr",
     "output_type": "stream",
     "text": [
      "WARNING:root:URI URIElement: http://nuts.geovocab.org/id/ES614 - Type: item doesn't contain a '#' separator. Default label can't be inferred.\n"
     ]
    },
    {
     "name": "stdout",
     "output_type": "stream",
     "text": [
      "Error while writing to Wikidata\n",
      "Error while writing to Wikidata\n"
     ]
    },
    {
     "name": "stderr",
     "output_type": "stream",
     "text": [
      "WARNING:root:URI URIElement: http://nuts.geovocab.org/id/ES425 - Type: item doesn't contain a '#' separator. Default label can't be inferred.\n"
     ]
    },
    {
     "name": "stdout",
     "output_type": "stream",
     "text": [
      "Error while writing to Wikidata\n",
      "Error while writing to Wikidata\n",
      "Error while writing to Wikidata\n"
     ]
    },
    {
     "name": "stderr",
     "output_type": "stream",
     "text": [
      "WARNING:root:URI URIElement: http://nuts.geovocab.org/id/ES415 - Type: item doesn't contain a '#' separator. Default label can't be inferred.\n",
      "WARNING:root:URI URIElement: http://purl.org/dc/terms/license - Type: property doesn't contain a '#' separator. Default label can't be inferred.\n"
     ]
    },
    {
     "name": "stdout",
     "output_type": "stream",
     "text": [
      "Error while writing to Wikidata\n"
     ]
    },
    {
     "name": "stderr",
     "output_type": "stream",
     "text": [
      "WARNING:hercules_sync.triplestore.wikibase_adapter:Language was not recognized. Skipping it...\n"
     ]
    },
    {
     "name": "stdout",
     "output_type": "stream",
     "text": [
      "Error while writing to Wikidata\n"
     ]
    },
    {
     "name": "stderr",
     "output_type": "stream",
     "text": [
      "WARNING:hercules_sync.triplestore.wikibase_adapter:Language was not recognized. Skipping it...\n"
     ]
    },
    {
     "name": "stdout",
     "output_type": "stream",
     "text": [
      "Error while writing to Wikidata\n"
     ]
    },
    {
     "name": "stderr",
     "output_type": "stream",
     "text": [
      "WARNING:hercules_sync.triplestore.wikibase_adapter:Language was not recognized. Skipping it...\n"
     ]
    },
    {
     "name": "stdout",
     "output_type": "stream",
     "text": [
      "Error while writing to Wikidata\n",
      "Error while writing to Wikidata\n",
      "Error while writing to Wikidata\n"
     ]
    },
    {
     "name": "stderr",
     "output_type": "stream",
     "text": [
      "WARNING:hercules_sync.triplestore.wikibase_adapter:Language was not recognized. Skipping it...\n"
     ]
    },
    {
     "name": "stdout",
     "output_type": "stream",
     "text": [
      "Error while writing to Wikidata\n",
      "Error while writing to Wikidata\n",
      "Error while writing to Wikidata\n"
     ]
    },
    {
     "name": "stderr",
     "output_type": "stream",
     "text": [
      "WARNING:root:URI URIElement: http://nuts.geovocab.org/id/ES4 - Type: item doesn't contain a '#' separator. Default label can't be inferred.\n"
     ]
    },
    {
     "name": "stdout",
     "output_type": "stream",
     "text": [
      "Error while writing to Wikidata\n",
      "Error while writing to Wikidata\n",
      "Error while writing to Wikidata\n"
     ]
    },
    {
     "name": "stderr",
     "output_type": "stream",
     "text": [
      "WARNING:hercules_sync.triplestore.wikibase_adapter:Language was not recognized. Skipping it...\n"
     ]
    },
    {
     "name": "stdout",
     "output_type": "stream",
     "text": [
      "Error while writing to Wikidata\n",
      "Error while writing to Wikidata\n"
     ]
    },
    {
     "name": "stderr",
     "output_type": "stream",
     "text": [
      "WARNING:root:URI URIElement: http://nuts.geovocab.org/id/ES514 - Type: item doesn't contain a '#' separator. Default label can't be inferred.\n"
     ]
    },
    {
     "name": "stdout",
     "output_type": "stream",
     "text": [
      "Error while writing to Wikidata\n",
      "Error while writing to Wikidata\n",
      "Error while writing to Wikidata\n",
      "Error while writing to Wikidata\n"
     ]
    },
    {
     "name": "stderr",
     "output_type": "stream",
     "text": [
      "WARNING:root:URI URIElement: http://nuts.geovocab.org/id/ES423 - Type: item doesn't contain a '#' separator. Default label can't be inferred.\n"
     ]
    },
    {
     "name": "stdout",
     "output_type": "stream",
     "text": [
      "Error while writing to Wikidata\n",
      "Error while writing to Wikidata\n",
      "Error while writing to Wikidata\n"
     ]
    },
    {
     "name": "stderr",
     "output_type": "stream",
     "text": [
      "WARNING:hercules_sync.triplestore.wikibase_adapter:Language was not recognized. Skipping it...\n"
     ]
    },
    {
     "name": "stdout",
     "output_type": "stream",
     "text": [
      "Error while writing to Wikidata\n",
      "Error while writing to Wikidata\n"
     ]
    },
    {
     "name": "stderr",
     "output_type": "stream",
     "text": [
      "WARNING:hercules_sync.triplestore.wikibase_adapter:Language was not recognized. Skipping it...\n"
     ]
    },
    {
     "name": "stdout",
     "output_type": "stream",
     "text": [
      "Error while writing to Wikidata\n"
     ]
    },
    {
     "name": "stderr",
     "output_type": "stream",
     "text": [
      "WARNING:root:URI URIElement: http://purl.org/cerif/frapo/Company - Type: item doesn't contain a '#' separator. Default label can't be inferred.\n"
     ]
    },
    {
     "name": "stdout",
     "output_type": "stream",
     "text": [
      "Error while writing to Wikidata\n"
     ]
    },
    {
     "name": "stderr",
     "output_type": "stream",
     "text": [
      "WARNING:hercules_sync.triplestore.wikibase_adapter:Language was not recognized. Skipping it...\n"
     ]
    },
    {
     "name": "stdout",
     "output_type": "stream",
     "text": [
      "Error while writing to Wikidata\n"
     ]
    },
    {
     "name": "stderr",
     "output_type": "stream",
     "text": [
      "WARNING:hercules_sync.triplestore.wikibase_adapter:Language was not recognized. Skipping it...\n"
     ]
    },
    {
     "name": "stdout",
     "output_type": "stream",
     "text": [
      "Error while writing to Wikidata\n",
      "Error while writing to Wikidata\n"
     ]
    },
    {
     "name": "stderr",
     "output_type": "stream",
     "text": [
      "WARNING:hercules_sync.triplestore.wikibase_adapter:Language was not recognized. Skipping it...\n"
     ]
    },
    {
     "name": "stdout",
     "output_type": "stream",
     "text": [
      "Error while writing to Wikidata\n",
      "Error while writing to Wikidata\n"
     ]
    },
    {
     "name": "stderr",
     "output_type": "stream",
     "text": [
      "WARNING:hercules_sync.triplestore.wikibase_adapter:Language was not recognized. Skipping it...\n",
      "WARNING:hercules_sync.triplestore.wikibase_adapter:Language was not recognized. Skipping it...\n"
     ]
    },
    {
     "name": "stdout",
     "output_type": "stream",
     "text": [
      "Error while writing to Wikidata\n",
      "Error while writing to Wikidata\n"
     ]
    },
    {
     "name": "stderr",
     "output_type": "stream",
     "text": [
      "WARNING:hercules_sync.triplestore.wikibase_adapter:Language was not recognized. Skipping it...\n"
     ]
    },
    {
     "name": "stdout",
     "output_type": "stream",
     "text": [
      "Error while writing to Wikidata\n",
      "Error while writing to Wikidata\n",
      "Error while writing to Wikidata\n",
      "Error while writing to Wikidata\n"
     ]
    },
    {
     "name": "stderr",
     "output_type": "stream",
     "text": [
      "WARNING:hercules_sync.triplestore.wikibase_adapter:Language was not recognized. Skipping it...\n"
     ]
    },
    {
     "name": "stdout",
     "output_type": "stream",
     "text": [
      "Error while writing to Wikidata\n",
      "Error while writing to Wikidata\n",
      "Error while writing to Wikidata\n"
     ]
    },
    {
     "name": "stderr",
     "output_type": "stream",
     "text": [
      "WARNING:root:URI URIElement: http://nuts.geovocab.org/id/ES63 - Type: item doesn't contain a '#' separator. Default label can't be inferred.\n"
     ]
    },
    {
     "name": "stdout",
     "output_type": "stream",
     "text": [
      "Error while writing to Wikidata\n",
      "Error while writing to Wikidata\n",
      "Error while writing to Wikidata\n",
      "Error while writing to Wikidata\n",
      "Error while writing to Wikidata\n",
      "Error while writing to Wikidata\n",
      "Error while writing to Wikidata\n",
      "Error while writing to Wikidata\n"
     ]
    },
    {
     "name": "stderr",
     "output_type": "stream",
     "text": [
      "WARNING:root:URI URIElement: http://nuts.geovocab.org/id/ES52 - Type: item doesn't contain a '#' separator. Default label can't be inferred.\n",
      "WARNING:root:URI URIElement: http://nuts.geovocab.org/id/ES523 - Type: item doesn't contain a '#' separator. Default label can't be inferred.\n",
      "WARNING:root:URI URIElement: http://nuts.geovocab.org/id/ES1 - Type: item doesn't contain a '#' separator. Default label can't be inferred.\n",
      "WARNING:hercules_sync.triplestore.wikibase_adapter:Language was not recognized. Skipping it...\n"
     ]
    },
    {
     "name": "stdout",
     "output_type": "stream",
     "text": [
      "Error while writing to Wikidata\n",
      "Error while writing to Wikidata\n",
      "Error while writing to Wikidata\n"
     ]
    },
    {
     "name": "stderr",
     "output_type": "stream",
     "text": [
      "WARNING:hercules_sync.triplestore.wikibase_adapter:Language was not recognized. Skipping it...\n"
     ]
    },
    {
     "name": "stdout",
     "output_type": "stream",
     "text": [
      "Error while writing to Wikidata\n",
      "Error while writing to Wikidata\n",
      "Error while writing to Wikidata\n",
      "Error while writing to Wikidata\n"
     ]
    },
    {
     "name": "stderr",
     "output_type": "stream",
     "text": [
      "WARNING:root:URI URIElement: http://nuts.geovocab.org/id/ES702 - Type: item doesn't contain a '#' separator. Default label can't be inferred.\n"
     ]
    },
    {
     "name": "stdout",
     "output_type": "stream",
     "text": [
      "Error while writing to Wikidata\n",
      "Error while writing to Wikidata\n",
      "Error while writing to Wikidata\n",
      "Error while writing to Wikidata\n",
      "Error while writing to Wikidata\n",
      "Error while writing to Wikidata\n",
      "Error while writing to Wikidata\n",
      "Error while writing to Wikidata\n",
      "Error while writing to Wikidata\n",
      "Error while writing to Wikidata\n",
      "Error while writing to Wikidata\n",
      "Error while writing to Wikidata\n"
     ]
    },
    {
     "name": "stderr",
     "output_type": "stream",
     "text": [
      "WARNING:hercules_sync.triplestore.wikibase_adapter:Language was not recognized. Skipping it...\n"
     ]
    },
    {
     "name": "stdout",
     "output_type": "stream",
     "text": [
      "Error while writing to Wikidata\n",
      "Error while writing to Wikidata\n",
      "Error while writing to Wikidata\n",
      "Error while writing to Wikidata\n",
      "Error while writing to Wikidata\n",
      "Error while writing to Wikidata\n",
      "Error while writing to Wikidata\n",
      "Error while writing to Wikidata\n",
      "Error while writing to Wikidata\n"
     ]
    },
    {
     "name": "stderr",
     "output_type": "stream",
     "text": [
      "WARNING:hercules_sync.triplestore.wikibase_adapter:Language was not recognized. Skipping it...\n"
     ]
    },
    {
     "name": "stdout",
     "output_type": "stream",
     "text": [
      "Error while writing to Wikidata\n",
      "Error while writing to Wikidata\n",
      "Error while writing to Wikidata\n"
     ]
    },
    {
     "name": "stderr",
     "output_type": "stream",
     "text": [
      "WARNING:root:URI URIElement: http://nuts.geovocab.org/id/ES613 - Type: item doesn't contain a '#' separator. Default label can't be inferred.\n"
     ]
    },
    {
     "name": "stdout",
     "output_type": "stream",
     "text": [
      "Error while writing to Wikidata\n",
      "Error while writing to Wikidata\n",
      "Error while writing to Wikidata\n",
      "Error while writing to Wikidata\n",
      "Error while writing to Wikidata\n",
      "Error while writing to Wikidata\n",
      "Error while writing to Wikidata\n",
      "Error while writing to Wikidata\n",
      "Error while writing to Wikidata\n",
      "Error while writing to Wikidata\n",
      "Error while writing to Wikidata\n"
     ]
    },
    {
     "name": "stderr",
     "output_type": "stream",
     "text": [
      "WARNING:root:URI URIElement: http://nuts.geovocab.org/id/ES6 - Type: item doesn't contain a '#' separator. Default label can't be inferred.\n"
     ]
    },
    {
     "name": "stdout",
     "output_type": "stream",
     "text": [
      "Error while writing to Wikidata\n"
     ]
    },
    {
     "name": "stderr",
     "output_type": "stream",
     "text": [
      "WARNING:root:URI URIElement: http://nuts.geovocab.org/id/ES62 - Type: item doesn't contain a '#' separator. Default label can't be inferred.\n"
     ]
    },
    {
     "name": "stdout",
     "output_type": "stream",
     "text": [
      "Error while writing to Wikidata\n",
      "Error while writing to Wikidata\n",
      "Error while writing to Wikidata\n",
      "Error while writing to Wikidata\n",
      "Error while writing to Wikidata\n"
     ]
    },
    {
     "name": "stderr",
     "output_type": "stream",
     "text": [
      "WARNING:root:URI URIElement: http://nuts.geovocab.org/id/ES616 - Type: item doesn't contain a '#' separator. Default label can't be inferred.\n"
     ]
    },
    {
     "name": "stdout",
     "output_type": "stream",
     "text": [
      "Error while writing to Wikidata\n",
      "Error while writing to Wikidata\n"
     ]
    },
    {
     "name": "stderr",
     "output_type": "stream",
     "text": [
      "WARNING:hercules_sync.triplestore.wikibase_adapter:Language was not recognized. Skipping it...\n"
     ]
    },
    {
     "name": "stdout",
     "output_type": "stream",
     "text": [
      "Error while writing to Wikidata\n",
      "Error while writing to Wikidata\n",
      "Error while writing to Wikidata\n",
      "Error while writing to Wikidata\n",
      "Error while writing to Wikidata\n",
      "Error while writing to Wikidata\n",
      "Error while writing to Wikidata\n"
     ]
    },
    {
     "name": "stderr",
     "output_type": "stream",
     "text": [
      "WARNING:hercules_sync.triplestore.wikibase_adapter:Language was not recognized. Skipping it...\n"
     ]
    },
    {
     "name": "stdout",
     "output_type": "stream",
     "text": [
      "Error while writing to Wikidata\n",
      "Error while writing to Wikidata\n",
      "Error while writing to Wikidata\n"
     ]
    },
    {
     "name": "stderr",
     "output_type": "stream",
     "text": [
      "WARNING:root:URI URIElement: http://nuts.geovocab.org/id/ES211 - Type: item doesn't contain a '#' separator. Default label can't be inferred.\n",
      "WARNING:hercules_sync.triplestore.wikibase_adapter:Language was not recognized. Skipping it...\n"
     ]
    },
    {
     "name": "stdout",
     "output_type": "stream",
     "text": [
      "Error while writing to Wikidata\n",
      "Error while writing to Wikidata\n",
      "Error while writing to Wikidata\n"
     ]
    },
    {
     "name": "stderr",
     "output_type": "stream",
     "text": [
      "WARNING:hercules_sync.triplestore.wikibase_adapter:Language was not recognized. Skipping it...\n"
     ]
    },
    {
     "name": "stdout",
     "output_type": "stream",
     "text": [
      "Error while writing to Wikidata\n",
      "Error while writing to Wikidata\n",
      "Error while writing to Wikidata\n",
      "Error while writing to Wikidata\n",
      "Error while writing to Wikidata\n",
      "Error while writing to Wikidata\n",
      "Error while writing to Wikidata\n"
     ]
    },
    {
     "name": "stderr",
     "output_type": "stream",
     "text": [
      "WARNING:root:URI URIElement: http://purl.org/cerif/frapo/isFundedBy - Type: item doesn't contain a '#' separator. Default label can't be inferred.\n"
     ]
    },
    {
     "name": "stdout",
     "output_type": "stream",
     "text": [
      "Error while writing to Wikidata\n",
      "Error while writing to Wikidata\n",
      "Error while writing to Wikidata\n",
      "Error while writing to Wikidata\n",
      "Error while writing to Wikidata\n",
      "Error while writing to Wikidata\n"
     ]
    },
    {
     "name": "stderr",
     "output_type": "stream",
     "text": [
      "WARNING:root:URI URIElement: http://purl.org/cerif/frapo/FinancialEntity - Type: item doesn't contain a '#' separator. Default label can't be inferred.\n"
     ]
    },
    {
     "name": "stdout",
     "output_type": "stream",
     "text": [
      "Error while writing to Wikidata\n",
      "Error while writing to Wikidata\n",
      "Error while writing to Wikidata\n",
      "Error while writing to Wikidata\n",
      "Error while writing to Wikidata\n",
      "Error while writing to Wikidata\n",
      "Error while writing to Wikidata\n",
      "Error while writing to Wikidata\n",
      "Error while writing to Wikidata\n",
      "Error while writing to Wikidata\n",
      "Error while writing to Wikidata\n",
      "Error while writing to Wikidata\n"
     ]
    },
    {
     "name": "stderr",
     "output_type": "stream",
     "text": [
      "WARNING:hercules_sync.triplestore.wikibase_adapter:Language was not recognized. Skipping it...\n"
     ]
    },
    {
     "name": "stdout",
     "output_type": "stream",
     "text": [
      "Error while writing to Wikidata\n",
      "Error while writing to Wikidata\n",
      "Error while writing to Wikidata\n"
     ]
    },
    {
     "name": "stderr",
     "output_type": "stream",
     "text": [
      "WARNING:root:URI URIElement: http://xmlns.com/foaf/0.1/Project - Type: item doesn't contain a '#' separator. Default label can't be inferred.\n"
     ]
    },
    {
     "name": "stdout",
     "output_type": "stream",
     "text": [
      "Error while writing to Wikidata\n",
      "Error while writing to Wikidata\n",
      "Error while writing to Wikidata\n",
      "Error while writing to Wikidata\n",
      "Error while writing to Wikidata\n",
      "Error while writing to Wikidata\n",
      "Error while writing to Wikidata\n",
      "Error while writing to Wikidata\n"
     ]
    },
    {
     "name": "stderr",
     "output_type": "stream",
     "text": [
      "WARNING:hercules_sync.triplestore.wikibase_adapter:Language was not recognized. Skipping it...\n"
     ]
    },
    {
     "name": "stdout",
     "output_type": "stream",
     "text": [
      "Error while writing to Wikidata\n",
      "Error while writing to Wikidata\n",
      "Error while writing to Wikidata\n",
      "Error while writing to Wikidata\n",
      "Error while writing to Wikidata\n"
     ]
    },
    {
     "name": "stderr",
     "output_type": "stream",
     "text": [
      "WARNING:hercules_sync.triplestore.wikibase_adapter:Language was not recognized. Skipping it...\n"
     ]
    },
    {
     "name": "stdout",
     "output_type": "stream",
     "text": [
      "Error while writing to Wikidata\n",
      "Error while writing to Wikidata\n",
      "Error while writing to Wikidata\n"
     ]
    },
    {
     "name": "stderr",
     "output_type": "stream",
     "text": [
      "WARNING:root:URI URIElement: http://nuts.geovocab.org/id/ES701 - Type: item doesn't contain a '#' separator. Default label can't be inferred.\n"
     ]
    },
    {
     "name": "stdout",
     "output_type": "stream",
     "text": [
      "Error while writing to Wikidata\n",
      "Error while writing to Wikidata\n",
      "Error while writing to Wikidata\n",
      "Error while writing to Wikidata\n",
      "Error while writing to Wikidata\n",
      "Error while writing to Wikidata\n",
      "Error while writing to Wikidata\n",
      "Error while writing to Wikidata\n"
     ]
    },
    {
     "name": "stderr",
     "output_type": "stream",
     "text": [
      "WARNING:root:URI URIElement: http://nuts.geovocab.org/id/ES64 - Type: item doesn't contain a '#' separator. Default label can't be inferred.\n",
      "WARNING:root:URI URIElement: http://nuts.geovocab.org/id/ES11 - Type: item doesn't contain a '#' separator. Default label can't be inferred.\n"
     ]
    },
    {
     "name": "stdout",
     "output_type": "stream",
     "text": [
      "Error while writing to Wikidata\n",
      "Error while writing to Wikidata\n"
     ]
    },
    {
     "name": "stderr",
     "output_type": "stream",
     "text": [
      "WARNING:hercules_sync.triplestore.wikibase_adapter:Language was not recognized. Skipping it...\n"
     ]
    },
    {
     "name": "stdout",
     "output_type": "stream",
     "text": [
      "Error while writing to Wikidata\n",
      "Error while writing to Wikidata\n"
     ]
    },
    {
     "name": "stderr",
     "output_type": "stream",
     "text": [
      "WARNING:root:URI URIElement: http://nuts.geovocab.org/id/ES41 - Type: item doesn't contain a '#' separator. Default label can't be inferred.\n",
      "WARNING:root:URI URIElement: http://nuts.geovocab.org/id/ES416 - Type: item doesn't contain a '#' separator. Default label can't be inferred.\n"
     ]
    },
    {
     "name": "stdout",
     "output_type": "stream",
     "text": [
      "Error while writing to Wikidata\n",
      "Error while writing to Wikidata\n",
      "Error while writing to Wikidata\n",
      "Error while writing to Wikidata\n",
      "Error while writing to Wikidata\n"
     ]
    },
    {
     "name": "stderr",
     "output_type": "stream",
     "text": [
      "WARNING:hercules_sync.triplestore.wikibase_adapter:Language was not recognized. Skipping it...\n"
     ]
    },
    {
     "name": "stdout",
     "output_type": "stream",
     "text": [
      "Error while writing to Wikidata\n",
      "Error while writing to Wikidata\n",
      "Error while writing to Wikidata\n",
      "Error while writing to Wikidata\n",
      "Error while writing to Wikidata\n",
      "Error while writing to Wikidata\n",
      "Error while writing to Wikidata\n",
      "Error while writing to Wikidata\n"
     ]
    },
    {
     "name": "stderr",
     "output_type": "stream",
     "text": [
      "WARNING:hercules_sync.triplestore.wikibase_adapter:Language was not recognized. Skipping it...\n"
     ]
    },
    {
     "name": "stdout",
     "output_type": "stream",
     "text": [
      "Error while writing to Wikidata\n",
      "Error while writing to Wikidata\n",
      "Error while writing to Wikidata\n"
     ]
    },
    {
     "name": "stderr",
     "output_type": "stream",
     "text": [
      "WARNING:root:URI URIElement: http://nuts.geovocab.org/id/ES621 - Type: item doesn't contain a '#' separator. Default label can't be inferred.\n"
     ]
    },
    {
     "name": "stdout",
     "output_type": "stream",
     "text": [
      "Error while writing to Wikidata\n",
      "Error while writing to Wikidata\n",
      "Error while writing to Wikidata\n",
      "Error while writing to Wikidata\n",
      "Error while writing to Wikidata\n",
      "Error while writing to Wikidata\n",
      "Error while writing to Wikidata\n",
      "Error while writing to Wikidata\n",
      "Error while writing to Wikidata\n",
      "Error while writing to Wikidata\n",
      "Error while writing to Wikidata\n",
      "Error while writing to Wikidata\n"
     ]
    },
    {
     "name": "stderr",
     "output_type": "stream",
     "text": [
      "WARNING:hercules_sync.triplestore.wikibase_adapter:Language was not recognized. Skipping it...\n"
     ]
    },
    {
     "name": "stdout",
     "output_type": "stream",
     "text": [
      "Error while writing to Wikidata\n",
      "Error while writing to Wikidata\n",
      "Error while writing to Wikidata\n",
      "Error while writing to Wikidata\n",
      "Error while writing to Wikidata\n",
      "Error while writing to Wikidata\n",
      "Error while writing to Wikidata\n"
     ]
    },
    {
     "name": "stderr",
     "output_type": "stream",
     "text": [
      "WARNING:hercules_sync.triplestore.wikibase_adapter:Language was not recognized. Skipping it...\n"
     ]
    },
    {
     "name": "stdout",
     "output_type": "stream",
     "text": [
      "Error while writing to Wikidata\n",
      "Error while writing to Wikidata\n",
      "Error while writing to Wikidata\n"
     ]
    },
    {
     "name": "stderr",
     "output_type": "stream",
     "text": [
      "WARNING:hercules_sync.triplestore.wikibase_adapter:Language was not recognized. Skipping it...\n"
     ]
    },
    {
     "name": "stdout",
     "output_type": "stream",
     "text": [
      "Error while writing to Wikidata\n",
      "Error while writing to Wikidata\n",
      "Error while writing to Wikidata\n",
      "Error while writing to Wikidata\n"
     ]
    },
    {
     "name": "stderr",
     "output_type": "stream",
     "text": [
      "WARNING:root:URI URIElement: http://xmlns.com/foaf/0.1/Agent - Type: item doesn't contain a '#' separator. Default label can't be inferred.\n"
     ]
    },
    {
     "name": "stdout",
     "output_type": "stream",
     "text": [
      "Error while writing to Wikidata\n",
      "Error while writing to Wikidata\n",
      "Error while writing to Wikidata\n",
      "Error while writing to Wikidata\n"
     ]
    },
    {
     "name": "stderr",
     "output_type": "stream",
     "text": [
      "WARNING:root:URI URIElement: http://xmlns.com/foaf/0.1/Organization - Type: item doesn't contain a '#' separator. Default label can't be inferred.\n"
     ]
    },
    {
     "name": "stdout",
     "output_type": "stream",
     "text": [
      "Error while writing to Wikidata\n",
      "Error while writing to Wikidata\n"
     ]
    },
    {
     "name": "stderr",
     "output_type": "stream",
     "text": [
      "WARNING:hercules_sync.triplestore.wikibase_adapter:Language was not recognized. Skipping it...\n"
     ]
    },
    {
     "name": "stdout",
     "output_type": "stream",
     "text": [
      "Error while writing to Wikidata\n"
     ]
    },
    {
     "name": "stderr",
     "output_type": "stream",
     "text": [
      "WARNING:hercules_sync.triplestore.wikibase_adapter:Language was not recognized. Skipping it...\n"
     ]
    },
    {
     "name": "stdout",
     "output_type": "stream",
     "text": [
      "Error while writing to Wikidata\n",
      "Error while writing to Wikidata\n",
      "Error while writing to Wikidata\n"
     ]
    },
    {
     "name": "stderr",
     "output_type": "stream",
     "text": [
      "WARNING:hercules_sync.triplestore.wikibase_adapter:Language was not recognized. Skipping it...\n"
     ]
    },
    {
     "name": "stdout",
     "output_type": "stream",
     "text": [
      "Error while writing to Wikidata\n",
      "Error while writing to Wikidata\n",
      "Error while writing to Wikidata\n"
     ]
    },
    {
     "name": "stderr",
     "output_type": "stream",
     "text": [
      "WARNING:root:URI URIElement: http://nuts.geovocab.org/id/ES113 - Type: item doesn't contain a '#' separator. Default label can't be inferred.\n"
     ]
    },
    {
     "name": "stdout",
     "output_type": "stream",
     "text": [
      "Error while writing to Wikidata\n",
      "Error while writing to Wikidata\n"
     ]
    },
    {
     "name": "stderr",
     "output_type": "stream",
     "text": [
      "WARNING:root:URI URIElement: http://purl.org/cerif/Funding - Type: item doesn't contain a '#' separator. Default label can't be inferred.\n"
     ]
    },
    {
     "name": "stdout",
     "output_type": "stream",
     "text": [
      "Error while writing to Wikidata\n",
      "Error while writing to Wikidata\n",
      "Error while writing to Wikidata\n",
      "Error while writing to Wikidata\n",
      "Error while writing to Wikidata\n",
      "Error while writing to Wikidata\n",
      "Error while writing to Wikidata\n",
      "Error while writing to Wikidata\n"
     ]
    },
    {
     "name": "stderr",
     "output_type": "stream",
     "text": [
      "WARNING:hercules_sync.triplestore.wikibase_adapter:Language was not recognized. Skipping it...\n"
     ]
    },
    {
     "name": "stdout",
     "output_type": "stream",
     "text": [
      "Error while writing to Wikidata\n",
      "Error while writing to Wikidata\n",
      "Error while writing to Wikidata\n",
      "Error while writing to Wikidata\n"
     ]
    },
    {
     "name": "stderr",
     "output_type": "stream",
     "text": [
      "WARNING:hercules_sync.triplestore.wikibase_adapter:Language was not recognized. Skipping it...\n"
     ]
    },
    {
     "name": "stdout",
     "output_type": "stream",
     "text": [
      "Error while writing to Wikidata\n",
      "Error while writing to Wikidata\n"
     ]
    },
    {
     "name": "stderr",
     "output_type": "stream",
     "text": [
      "WARNING:root:URI URIElement: http://nuts.geovocab.org/id/ES21 - Type: item doesn't contain a '#' separator. Default label can't be inferred.\n"
     ]
    },
    {
     "name": "stdout",
     "output_type": "stream",
     "text": [
      "Error while writing to Wikidata\n",
      "Error while writing to Wikidata\n",
      "Error while writing to Wikidata\n",
      "Error while writing to Wikidata\n",
      "Error while writing to Wikidata\n"
     ]
    },
    {
     "name": "stderr",
     "output_type": "stream",
     "text": [
      "WARNING:hercules_sync.triplestore.wikibase_adapter:Language was not recognized. Skipping it...\n"
     ]
    },
    {
     "name": "stdout",
     "output_type": "stream",
     "text": [
      "Error while writing to Wikidata\n",
      "Error while writing to Wikidata\n",
      "Error while writing to Wikidata\n",
      "Error while writing to Wikidata\n",
      "Error while writing to Wikidata\n",
      "Error while writing to Wikidata\n",
      "Error while writing to Wikidata\n",
      "Error while writing to Wikidata\n",
      "Error while writing to Wikidata\n",
      "Error while writing to Wikidata\n"
     ]
    },
    {
     "name": "stderr",
     "output_type": "stream",
     "text": [
      "WARNING:hercules_sync.triplestore.wikibase_adapter:Language was not recognized. Skipping it...\n"
     ]
    },
    {
     "name": "stdout",
     "output_type": "stream",
     "text": [
      "Error while writing to Wikidata\n",
      "Error while writing to Wikidata\n",
      "Error while writing to Wikidata\n",
      "Error while writing to Wikidata\n",
      "Error while writing to Wikidata\n",
      "Error while writing to Wikidata\n",
      "Error while writing to Wikidata\n",
      "Error while writing to Wikidata\n"
     ]
    },
    {
     "name": "stderr",
     "output_type": "stream",
     "text": [
      "WARNING:hercules_sync.triplestore.wikibase_adapter:Language was not recognized. Skipping it...\n"
     ]
    },
    {
     "name": "stdout",
     "output_type": "stream",
     "text": [
      "Error while writing to Wikidata\n"
     ]
    },
    {
     "name": "stderr",
     "output_type": "stream",
     "text": [
      "WARNING:root:URI URIElement: http://nuts.geovocab.org/id/ES212 - Type: item doesn't contain a '#' separator. Default label can't be inferred.\n"
     ]
    },
    {
     "name": "stdout",
     "output_type": "stream",
     "text": [
      "Error while writing to Wikidata\n",
      "Error while writing to Wikidata\n",
      "Error while writing to Wikidata\n"
     ]
    },
    {
     "name": "stderr",
     "output_type": "stream",
     "text": [
      "WARNING:hercules_sync.triplestore.wikibase_adapter:Language was not recognized. Skipping it...\n"
     ]
    },
    {
     "name": "stdout",
     "output_type": "stream",
     "text": [
      "Error while writing to Wikidata\n",
      "Error while writing to Wikidata\n",
      "Error while writing to Wikidata\n",
      "Error while writing to Wikidata\n"
     ]
    },
    {
     "name": "stderr",
     "output_type": "stream",
     "text": [
      "WARNING:hercules_sync.triplestore.wikibase_adapter:Language was not recognized. Skipping it...\n"
     ]
    },
    {
     "name": "stdout",
     "output_type": "stream",
     "text": [
      "Error while writing to Wikidata\n"
     ]
    },
    {
     "name": "stderr",
     "output_type": "stream",
     "text": [
      "WARNING:hercules_sync.triplestore.wikibase_adapter:Language was not recognized. Skipping it...\n"
     ]
    },
    {
     "name": "stdout",
     "output_type": "stream",
     "text": [
      "Error while writing to Wikidata\n",
      "Error while writing to Wikidata\n",
      "Error while writing to Wikidata\n"
     ]
    },
    {
     "name": "stderr",
     "output_type": "stream",
     "text": [
      "WARNING:root:URI URIElement: http://nuts.geovocab.org/id/ES431 - Type: item doesn't contain a '#' separator. Default label can't be inferred.\n"
     ]
    },
    {
     "name": "stdout",
     "output_type": "stream",
     "text": [
      "Error while writing to Wikidata\n",
      "Error while writing to Wikidata\n",
      "Error while writing to Wikidata\n",
      "Error while writing to Wikidata\n"
     ]
    },
    {
     "name": "stderr",
     "output_type": "stream",
     "text": [
      "WARNING:hercules_sync.triplestore.wikibase_adapter:Language was not recognized. Skipping it...\n"
     ]
    },
    {
     "name": "stdout",
     "output_type": "stream",
     "text": [
      "Error while writing to Wikidata\n"
     ]
    },
    {
     "name": "stderr",
     "output_type": "stream",
     "text": [
      "WARNING:hercules_sync.triplestore.wikibase_adapter:Language was not recognized. Skipping it...\n"
     ]
    },
    {
     "name": "stdout",
     "output_type": "stream",
     "text": [
      "Error while writing to Wikidata\n",
      "Error while writing to Wikidata\n",
      "Error while writing to Wikidata\n",
      "Error while writing to Wikidata\n",
      "Error while writing to Wikidata\n"
     ]
    },
    {
     "name": "stderr",
     "output_type": "stream",
     "text": [
      "WARNING:root:URI URIElement: http://semanticscience.org/resource/SIO_000167 - Type: item doesn't contain a '#' separator. Default label can't be inferred.\n"
     ]
    },
    {
     "name": "stdout",
     "output_type": "stream",
     "text": [
      "Error while writing to Wikidata\n",
      "Error while writing to Wikidata\n",
      "Error while writing to Wikidata\n",
      "Error while writing to Wikidata\n",
      "Error while writing to Wikidata\n",
      "Error while writing to Wikidata\n",
      "Error while writing to Wikidata\n",
      "Error while writing to Wikidata\n"
     ]
    },
    {
     "name": "stderr",
     "output_type": "stream",
     "text": [
      "WARNING:hercules_sync.triplestore.wikibase_adapter:Language was not recognized. Skipping it...\n"
     ]
    },
    {
     "name": "stdout",
     "output_type": "stream",
     "text": [
      "Error while writing to Wikidata\n"
     ]
    },
    {
     "name": "stderr",
     "output_type": "stream",
     "text": [
      "WARNING:hercules_sync.triplestore.wikibase_adapter:Language was not recognized. Skipping it...\n"
     ]
    },
    {
     "name": "stdout",
     "output_type": "stream",
     "text": [
      "Error while writing to Wikidata\n"
     ]
    },
    {
     "name": "stderr",
     "output_type": "stream",
     "text": [
      "WARNING:hercules_sync.triplestore.wikibase_adapter:Language was not recognized. Skipping it...\n"
     ]
    },
    {
     "name": "stdout",
     "output_type": "stream",
     "text": [
      "Error while writing to Wikidata\n",
      "Error while writing to Wikidata\n",
      "Error while writing to Wikidata\n",
      "Error while writing to Wikidata\n",
      "Error while writing to Wikidata\n"
     ]
    },
    {
     "name": "stderr",
     "output_type": "stream",
     "text": [
      "WARNING:root:URI URIElement: http://dbpedia.org/ontology/Project - Type: item doesn't contain a '#' separator. Default label can't be inferred.\n"
     ]
    },
    {
     "name": "stdout",
     "output_type": "stream",
     "text": [
      "Error while writing to Wikidata\n",
      "Error while writing to Wikidata\n",
      "Error while writing to Wikidata\n",
      "Error while writing to Wikidata\n"
     ]
    },
    {
     "name": "stderr",
     "output_type": "stream",
     "text": [
      "WARNING:root:URI URIElement: http://nuts.geovocab.org/id/ES521 - Type: item doesn't contain a '#' separator. Default label can't be inferred.\n"
     ]
    },
    {
     "name": "stdout",
     "output_type": "stream",
     "text": [
      "Error while writing to Wikidata\n",
      "Error while writing to Wikidata\n",
      "Error while writing to Wikidata\n"
     ]
    },
    {
     "name": "stderr",
     "output_type": "stream",
     "text": [
      "WARNING:root:URI URIElement: http://nuts.geovocab.org/id/ES300 - Type: item doesn't contain a '#' separator. Default label can't be inferred.\n"
     ]
    },
    {
     "name": "stdout",
     "output_type": "stream",
     "text": [
      "Error while writing to Wikidata\n",
      "Error while writing to Wikidata\n",
      "Error while writing to Wikidata\n",
      "Error while writing to Wikidata\n",
      "Error while writing to Wikidata\n"
     ]
    },
    {
     "name": "stderr",
     "output_type": "stream",
     "text": [
      "WARNING:hercules_sync.triplestore.wikibase_adapter:Language was not recognized. Skipping it...\n"
     ]
    },
    {
     "name": "stdout",
     "output_type": "stream",
     "text": [
      "Error while writing to Wikidata\n",
      "Error while writing to Wikidata\n"
     ]
    },
    {
     "name": "stderr",
     "output_type": "stream",
     "text": [
      "WARNING:root:URI URIElement: http://nuts.geovocab.org/id/ES43 - Type: item doesn't contain a '#' separator. Default label can't be inferred.\n"
     ]
    },
    {
     "name": "stdout",
     "output_type": "stream",
     "text": [
      "Error while writing to Wikidata\n",
      "Error while writing to Wikidata\n",
      "Error while writing to Wikidata\n",
      "Error while writing to Wikidata\n",
      "Error while writing to Wikidata\n"
     ]
    },
    {
     "name": "stderr",
     "output_type": "stream",
     "text": [
      "WARNING:root:URI URIElement: http://nuts.geovocab.org/id/ES511 - Type: item doesn't contain a '#' separator. Default label can't be inferred.\n"
     ]
    },
    {
     "name": "stdout",
     "output_type": "stream",
     "text": [
      "Error while writing to Wikidata\n",
      "Error while writing to Wikidata\n",
      "Error while writing to Wikidata\n",
      "Error while writing to Wikidata\n"
     ]
    },
    {
     "name": "stderr",
     "output_type": "stream",
     "text": [
      "WARNING:hercules_sync.triplestore.wikibase_adapter:Language was not recognized. Skipping it...\n"
     ]
    },
    {
     "name": "stdout",
     "output_type": "stream",
     "text": [
      "Error while writing to Wikidata\n",
      "Error while writing to Wikidata\n"
     ]
    },
    {
     "name": "stderr",
     "output_type": "stream",
     "text": [
      "WARNING:hercules_sync.triplestore.wikibase_adapter:Language was not recognized. Skipping it...\n"
     ]
    },
    {
     "name": "stdout",
     "output_type": "stream",
     "text": [
      "Error while writing to Wikidata\n",
      "Error while writing to Wikidata\n",
      "Error while writing to Wikidata\n",
      "Error while writing to Wikidata\n",
      "Error while writing to Wikidata\n",
      "Error while writing to Wikidata\n",
      "Error while writing to Wikidata\n",
      "Error while writing to Wikidata\n",
      "Error while writing to Wikidata\n",
      "Error while writing to Wikidata\n"
     ]
    },
    {
     "name": "stderr",
     "output_type": "stream",
     "text": [
      "WARNING:root:URI URIElement: http://nuts.geovocab.org/id/ES412 - Type: item doesn't contain a '#' separator. Default label can't be inferred.\n"
     ]
    },
    {
     "name": "stdout",
     "output_type": "stream",
     "text": [
      "Error while writing to Wikidata\n"
     ]
    },
    {
     "name": "stderr",
     "output_type": "stream",
     "text": [
      "WARNING:root:URI URIElement: http://nuts.geovocab.org/id/ES5 - Type: item doesn't contain a '#' separator. Default label can't be inferred.\n",
      "WARNING:root:URI URIElement: http://nuts.geovocab.org/id/ES51 - Type: item doesn't contain a '#' separator. Default label can't be inferred.\n"
     ]
    },
    {
     "name": "stdout",
     "output_type": "stream",
     "text": [
      "Error while writing to Wikidata\n"
     ]
    },
    {
     "name": "stderr",
     "output_type": "stream",
     "text": [
      "WARNING:hercules_sync.triplestore.wikibase_adapter:Language was not recognized. Skipping it...\n"
     ]
    },
    {
     "name": "stdout",
     "output_type": "stream",
     "text": [
      "Error while writing to Wikidata\n",
      "Error while writing to Wikidata\n"
     ]
    },
    {
     "name": "stderr",
     "output_type": "stream",
     "text": [
      "WARNING:hercules_sync.triplestore.wikibase_adapter:Language was not recognized. Skipping it...\n"
     ]
    },
    {
     "name": "stdout",
     "output_type": "stream",
     "text": [
      "Error while writing to Wikidata\n",
      "Error while writing to Wikidata\n",
      "Error while writing to Wikidata\n"
     ]
    },
    {
     "name": "stderr",
     "output_type": "stream",
     "text": [
      "WARNING:hercules_sync.triplestore.wikibase_adapter:Language was not recognized. Skipping it...\n"
     ]
    },
    {
     "name": "stdout",
     "output_type": "stream",
     "text": [
      "Error while writing to Wikidata\n",
      "Error while writing to Wikidata\n",
      "Error while writing to Wikidata\n",
      "Error while writing to Wikidata\n",
      "Error while writing to Wikidata\n",
      "Error while writing to Wikidata\n",
      "Error while writing to Wikidata\n",
      "Error while writing to Wikidata\n",
      "Error while writing to Wikidata\n",
      "Error while writing to Wikidata\n",
      "Error while writing to Wikidata\n"
     ]
    },
    {
     "name": "stderr",
     "output_type": "stream",
     "text": [
      "WARNING:hercules_sync.triplestore.wikibase_adapter:Language was not recognized. Skipping it...\n"
     ]
    },
    {
     "name": "stdout",
     "output_type": "stream",
     "text": [
      "Error while writing to Wikidata\n",
      "Error while writing to Wikidata\n",
      "Error while writing to Wikidata\n"
     ]
    },
    {
     "name": "stderr",
     "output_type": "stream",
     "text": [
      "WARNING:root:URI URIElement: http://nuts.geovocab.org/id/ES22 - Type: item doesn't contain a '#' separator. Default label can't be inferred.\n"
     ]
    },
    {
     "name": "stdout",
     "output_type": "stream",
     "text": [
      "Error while writing to Wikidata\n",
      "Error while writing to Wikidata\n",
      "Error while writing to Wikidata\n",
      "Error while writing to Wikidata\n",
      "Error while writing to Wikidata\n",
      "Error while writing to Wikidata\n"
     ]
    },
    {
     "name": "stderr",
     "output_type": "stream",
     "text": [
      "WARNING:root:URI URIElement: http://nuts.geovocab.org/id/ES422 - Type: item doesn't contain a '#' separator. Default label can't be inferred.\n"
     ]
    },
    {
     "name": "stdout",
     "output_type": "stream",
     "text": [
      "Error while writing to Wikidata\n",
      "Error while writing to Wikidata\n",
      "Error while writing to Wikidata\n",
      "Error while writing to Wikidata\n",
      "Error while writing to Wikidata\n",
      "Error while writing to Wikidata\n",
      "Error while writing to Wikidata\n",
      "Error while writing to Wikidata\n",
      "Error while writing to Wikidata\n",
      "Error while writing to Wikidata\n",
      "Error while writing to Wikidata\n",
      "Error while writing to Wikidata\n",
      "Error while writing to Wikidata\n",
      "Error while writing to Wikidata\n",
      "Error while writing to Wikidata\n",
      "Error while writing to Wikidata\n",
      "Error while writing to Wikidata\n",
      "Error while writing to Wikidata\n",
      "Error while writing to Wikidata\n",
      "Error while writing to Wikidata\n",
      "Error while writing to Wikidata\n",
      "Error while writing to Wikidata\n",
      "Error while writing to Wikidata\n",
      "Error while writing to Wikidata\n",
      "Error while writing to Wikidata\n",
      "Error while writing to Wikidata\n",
      "Error while writing to Wikidata\n",
      "Error while writing to Wikidata\n"
     ]
    },
    {
     "name": "stderr",
     "output_type": "stream",
     "text": [
      "WARNING:root:URI URIElement: http://nuts.geovocab.org/id/ES220 - Type: item doesn't contain a '#' separator. Default label can't be inferred.\n",
      "WARNING:hercules_sync.triplestore.wikibase_adapter:Language was not recognized. Skipping it...\n"
     ]
    },
    {
     "name": "stdout",
     "output_type": "stream",
     "text": [
      "Error while writing to Wikidata\n",
      "Error while writing to Wikidata\n",
      "Error while writing to Wikidata\n",
      "Error while writing to Wikidata\n"
     ]
    }
   ],
   "source": [
    "execute_synchronization(source_content, target_content, synchronizer, adapter)"
   ]
  },
  {
   "cell_type": "markdown",
   "metadata": {},
   "source": [
    "## Future work"
   ]
  },
  {
   "cell_type": "markdown",
   "metadata": {},
   "source": [
    "For additional information about the work that needs to be done with the synchronization system, please visit: https://github.com/weso/hercules-sync/issues?q=is%3Aopen+is%3Aissue+label%3Awikibase+"
   ]
  }
 ],
 "metadata": {
  "kernelspec": {
   "display_name": "Python 3",
   "language": "python",
   "name": "python3"
  },
  "language_info": {
   "codemirror_mode": {
    "name": "ipython",
    "version": 3
   },
   "file_extension": ".py",
   "mimetype": "text/x-python",
   "name": "python",
   "nbconvert_exporter": "python",
   "pygments_lexer": "ipython3",
   "version": "3.7.6"
  }
 },
 "nbformat": 4,
 "nbformat_minor": 4
}
