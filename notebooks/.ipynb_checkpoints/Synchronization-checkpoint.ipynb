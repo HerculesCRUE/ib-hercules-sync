{
 "cells": [
  {
   "cell_type": "markdown",
   "metadata": {},
   "source": [
    "# Synchronization of ontology files\n",
    "In this notebook we can look at the current state of the synchronization system between ontology files from a version control system and a wikibase instance."
   ]
  },
  {
   "cell_type": "markdown",
   "metadata": {},
   "source": [
    "## Setup"
   ]
  },
  {
   "cell_type": "markdown",
   "metadata": {},
   "source": [
    "Setting up the Python path to import the module locally and starting the logging system."
   ]
  },
  {
   "cell_type": "code",
   "execution_count": 1,
   "metadata": {},
   "outputs": [
    {
     "name": "stderr",
     "output_type": "stream",
     "text": [
      "INFO:root:Starting logger\n"
     ]
    }
   ],
   "source": [
    "import logging\n",
    "import os\n",
    "import sys\n",
    "\n",
    "# set up module paths for imports\n",
    "module_path = os.path.abspath(os.path.join('..'))\n",
    "hercules_sync_path = os.path.abspath(os.path.join('..', 'hercules_sync'))\n",
    "sys.path.append(module_path)\n",
    "sys.path.append(hercules_sync_path)\n",
    "\n",
    "# start logging system and set logging level\n",
    "logger = logging.getLogger()\n",
    "logger.setLevel(logging.INFO)\n",
    "logging.info(\"Starting logger\")"
   ]
  },
  {
   "cell_type": "markdown",
   "metadata": {},
   "source": [
    "We can now start importing the dependencies from hercules_sync to execute the synchronization:\n",
    "* The GitFile class encapsulates the diff of a file before and after changes have been made.\n",
    "* We will use the GraphDiffSyncAlgorithm to obtain the differences from each ontology file. This algorithm parses the files into a graph and computes the difference between the original and the modified graph.\n",
    "* The OntologySynchronizer class uses the algorithm to return the list of operations that need to be executed in the triplestore."
   ]
  },
  {
   "cell_type": "code",
   "execution_count": 2,
   "metadata": {},
   "outputs": [],
   "source": [
    "from hercules_sync.git import GitFile\n",
    "from hercules_sync.synchronization import GraphDiffSyncAlgorithm, OntologySynchronizer\n",
    "\n",
    "algorithm = GraphDiffSyncAlgorithm()\n",
    "synchronizer = OntologySynchronizer(algorithm)"
   ]
  },
  {
   "cell_type": "markdown",
   "metadata": {},
   "source": [
    "We are making use of a URIs factory mock to store the URIs of each entity from wikibase. Since we are starting from scratch in this example, we will reset its internal state:"
   ]
  },
  {
   "cell_type": "code",
   "execution_count": 3,
   "metadata": {},
   "outputs": [],
   "source": [
    "from hercules_sync.external.uri_factory_mock import URIFactory\n",
    "\n",
    "factory = URIFactory()\n",
    "factory.reset_factory()"
   ]
  },
  {
   "cell_type": "markdown",
   "metadata": {},
   "source": [
    "Now we will create an instance of the WikibaseAdapter class to connect to our wikibase instance where the synchronization will be executed:"
   ]
  },
  {
   "cell_type": "code",
   "execution_count": 4,
   "metadata": {},
   "outputs": [
    {
     "name": "stdout",
     "output_type": "stream",
     "text": [
      "http://156.35.94.149:8181/w/api.php\n",
      "Successfully logged in as WikibaseAdmin\n"
     ]
    }
   ],
   "source": [
    "from hercules_sync.triplestore import WikibaseAdapter\n",
    "from secret import USERNAME, PASSWORD\n",
    "\n",
    "mediawiki_api_url='http://156.35.94.149:8181/w/api.php'\n",
    "sparql_endpoint_url='http://156.35.94.149:8282/proxy/wdqs/bigdata/namespace/wdq/sparql'\n",
    "\n",
    "adapter = WikibaseAdapter(mediawiki_api_url, sparql_endpoint_url, USERNAME, PASSWORD)"
   ]
  },
  {
   "cell_type": "markdown",
   "metadata": {},
   "source": [
    "Finally, we will create this helper function that executes the operations returned by the algorithm in the triplestore:"
   ]
  },
  {
   "cell_type": "code",
   "execution_count": 5,
   "metadata": {},
   "outputs": [],
   "source": [
    "def execute_synchronization(source_content, target_content, synchronizer, adapter):\n",
    "    gitfile = GitFile(None, source_content, target_content)\n",
    "    ops = synchronizer.synchronize(gitfile)\n",
    "    for op in ops:\n",
    "        op.execute(adapter)"
   ]
  },
  {
   "cell_type": "markdown",
   "metadata": {},
   "source": [
    "## Adding content to the triplestore"
   ]
  },
  {
   "cell_type": "markdown",
   "metadata": {},
   "source": [
    "In order to simulate the initial commit of an ontology file, we will start with an empty string as the source content, and the target content will represent the contents of the file after the commit:"
   ]
  },
  {
   "cell_type": "code",
   "execution_count": 6,
   "metadata": {},
   "outputs": [],
   "source": [
    "source_content = \"\"\n",
    "\n",
    "target_content = \"\"\"\n",
    "#################################################################\n",
    "# Example ontology.                                             #\n",
    "# This file is used to test the CI and synchronization systems. #\n",
    "#################################################################\n",
    "\n",
    "@prefix ex: <http://www.semanticweb.org/spitxa/ontologies/2020/1/asio-human-resource#> .\n",
    "@prefix owl: <http://www.w3.org/2002/07/owl#> .\n",
    "@prefix rdf: <http://www.w3.org/1999/02/22-rdf-syntax-ns#> .\n",
    "@prefix rdfs: <http://www.w3.org/2000/01/rdf-schema#> .\n",
    "\n",
    "ex:AdministrativePersonnel rdf:type owl:Class ;\n",
    "                           rdfs:subClassOf  ex:HumanResource ;\n",
    "                           owl:disjointWith ex:ResearchPersonnel .\n",
    "\n",
    "ex:HumanResource rdf:type owl:Class .\n",
    "\n",
    "ex:ResearchPersonnel rdf:type owl:Class ;\n",
    "                     rdfs:subClassOf ex:HumanResource .\n",
    "\n",
    "ex:authors rdf:type owl:ObjectProperty .\n",
    "\"\"\""
   ]
  },
  {
   "cell_type": "markdown",
   "metadata": {},
   "source": [
    "Before executing the synchronization, we are going to briefly inspect the operations created by the algorithm first:"
   ]
  },
  {
   "cell_type": "code",
   "execution_count": 7,
   "metadata": {},
   "outputs": [
    {
     "data": {
      "text/plain": [
       "[<hercules_sync.synchronization.operations.AdditionOperation at 0x120f4dc88>,\n",
       " <hercules_sync.synchronization.operations.AdditionOperation at 0x120f32630>,\n",
       " <hercules_sync.synchronization.operations.AdditionOperation at 0x120f68390>,\n",
       " <hercules_sync.synchronization.operations.AdditionOperation at 0x120f68438>,\n",
       " <hercules_sync.synchronization.operations.AdditionOperation at 0x120f68550>,\n",
       " <hercules_sync.synchronization.operations.AdditionOperation at 0x120f68668>,\n",
       " <hercules_sync.synchronization.operations.AdditionOperation at 0x120f68780>]"
      ]
     },
     "execution_count": 7,
     "metadata": {},
     "output_type": "execute_result"
    }
   ],
   "source": [
    "gitfile = GitFile(None, source_content, target_content)\n",
    "ops = synchronizer.synchronize(gitfile)\n",
    "\n",
    "ops"
   ]
  },
  {
   "cell_type": "code",
   "execution_count": 8,
   "metadata": {},
   "outputs": [
    {
     "data": {
      "text/plain": [
       "'AdditionOperation: URIElement: http://www.semanticweb.org/spitxa/ontologies/2020/1/asio-human-resource#authors - Type: property - URIElement: http://www.w3.org/1999/02/22-rdf-syntax-ns#type - Type: item - URIElement: http://www.w3.org/2002/07/owl#ObjectProperty - Type: item'"
      ]
     },
     "execution_count": 8,
     "metadata": {},
     "output_type": "execute_result"
    }
   ],
   "source": [
    "str(ops[-1])"
   ]
  },
  {
   "cell_type": "markdown",
   "metadata": {},
   "source": [
    "As we can see, we have 6 AdditionOperations to execute in the triplestore.\n",
    "<br><br>\n",
    "\n",
    "We can now execute the synchronization using the function defined in the setup section:"
   ]
  },
  {
   "cell_type": "code",
   "execution_count": null,
   "metadata": {},
   "outputs": [
    {
     "name": "stderr",
     "output_type": "stream",
     "text": [
      "/Users/laika/Documents/envs/herc_sync/lib/python3.6/site-packages/wikidataintegrator/wdi_core.py:219: UserWarning: Warning: No distinct value properties found\n",
      "Please set P2302 and Q21502410 in your wikibase or set `core_props` manually.\n",
      "Continuing with no core_props\n",
      "  \"Continuing with no core_props\")\n",
      "/Users/laika/Documents/envs/herc_sync/lib/python3.6/site-packages/wikidataintegrator/wdi_core.py:175: UserWarning: mapping relation types are being ignored\n",
      "  warnings.warn(\"mapping relation types are being ignored\")\n"
     ]
    }
   ],
   "source": [
    "execute_synchronization(source_content, target_content, synchronizer, adapter)"
   ]
  },
  {
   "cell_type": "markdown",
   "metadata": {},
   "source": [
    "We can see below a sequence diagram of the complete process of adding new triples to the triplestore:\n",
    "\n",
    "![abc](img/herc_sync_sequence_new_triple.png)\n",
    "\n",
    "The process is equivalent to removing content from the triplestore, with the main difference that the 'remove_triple' method from WikibaseAdapter would be called instead."
   ]
  },
  {
   "cell_type": "markdown",
   "metadata": {},
   "source": [
    "## Modifying existing content"
   ]
  },
  {
   "cell_type": "markdown",
   "metadata": {},
   "source": [
    "Now we are going to simulate a change in the ontology file previously created. The following changes are introduced:\n",
    "* Add a new entity (ChangedPersonnel) of type owl:Class.\n",
    "* Add labels and description to the ResearchPersonnel entity.\n",
    "* Change the subclassOf property of ResearchPersonnel from HumanResource to ChangedPersonnel (for illustrative purposes).\n",
    "* Change the disjointWith property of AdministrativePersonnel from ResearchPersonnel to ChangedPersonnel.\n",
    "* Create a new 'authoredBy' property.\n",
    "* Set 'authors' as a subProperty of 'authoredBy'."
   ]
  },
  {
   "cell_type": "code",
   "execution_count": null,
   "metadata": {},
   "outputs": [],
   "source": [
    "source_content = target_content\n",
    "\n",
    "target_content = \"\"\"\n",
    "#################################################################\n",
    "# Example ontology.                                             #\n",
    "# This file is used to test the CI and synchronization systems. #\n",
    "#################################################################\n",
    "\n",
    "@prefix ex: <http://www.semanticweb.org/spitxa/ontologies/2020/1/asio-human-resource#> .\n",
    "@prefix geo: <http://www.opengis.net/ont/geosparql#> .\n",
    "@prefix owl: <http://www.w3.org/2002/07/owl#> .\n",
    "@prefix rdf: <http://www.w3.org/1999/02/22-rdf-syntax-ns#> .\n",
    "@prefix rdfs: <http://www.w3.org/2000/01/rdf-schema#> .\n",
    "@prefix asio: <http://www.asio.es/asioontologies/asio#> .\n",
    "@prefix xsd: <http://www.w3.org/2001/XMLSchema#> .\n",
    "\n",
    "\n",
    "ex:AdministrativePersonnel rdf:type owl:Class ;\n",
    "                           rdfs:subClassOf  ex:HumanResource ;\n",
    "                           owl:disjointWith ex:ChangedPersonnel .\n",
    "\n",
    "ex:HumanResource rdf:type owl:Class .\n",
    "\n",
    "ex:ChangedPersonnel rdf:type owl:Class .\n",
    "\n",
    "ex:ResearchPersonnel rdf:type owl:Class ;\n",
    "                        rdfs:subClassOf ex:ChangedPersonnel ;\n",
    "                        rdfs:subClassOf ex:HumanResource ;\n",
    "                        ex:creationDate \"2019-12-31\"^^xsd:date ;\n",
    "                        rdfs:comment \"Personnel devoted to technical suport.\"@en ;\n",
    "                        rdfs:label \"Personal tècnic\"@ca ,\n",
    "                                   \"Personal técnico\"@es ,\n",
    "                                   \"Personnel technique\"@fr ,\n",
    "                                   \"Pessoal técnico\"@pt ,\n",
    "                                   \"Technical personnel\"@en .\n",
    "\n",
    "ex:authoredBy rdf:type owl:ObjectProperty .\n",
    "\n",
    "ex:authors rdf:type owl:ObjectProperty ;\n",
    "           rdfs:subPropertyOf ex:authoredBy .\n",
    "\n",
    "ex:location rdf:type owl:DatatypeProperty ;\n",
    "            rdfs:range geo:wktLiteral .\n",
    "\n",
    "ex:creationDate rdf:type owl:DatatypeProperty ;\n",
    "                rdfs:range xsd:date .\n",
    "\"\"\""
   ]
  },
  {
   "cell_type": "code",
   "execution_count": 11,
   "metadata": {},
   "outputs": [
    {
     "ename": "TypeError",
     "evalue": "'NoneType' object is not subscriptable",
     "output_type": "error",
     "traceback": [
      "\u001b[0;31m---------------------------------------------------------------------------\u001b[0m",
      "\u001b[0;31mTypeError\u001b[0m                                 Traceback (most recent call last)",
      "\u001b[0;32m<ipython-input-11-01fa44b60643>\u001b[0m in \u001b[0;36m<module>\u001b[0;34m\u001b[0m\n\u001b[0;32m----> 1\u001b[0;31m \u001b[0mexecute_synchronization\u001b[0m\u001b[0;34m(\u001b[0m\u001b[0msource_content\u001b[0m\u001b[0;34m,\u001b[0m \u001b[0mtarget_content\u001b[0m\u001b[0;34m,\u001b[0m \u001b[0msynchronizer\u001b[0m\u001b[0;34m,\u001b[0m \u001b[0madapter\u001b[0m\u001b[0;34m)\u001b[0m\u001b[0;34m\u001b[0m\u001b[0m\n\u001b[0m",
      "\u001b[0;32m<ipython-input-5-bf4160884f92>\u001b[0m in \u001b[0;36mexecute_synchronization\u001b[0;34m(source_content, target_content, synchronizer, adapter)\u001b[0m\n\u001b[1;32m      3\u001b[0m     \u001b[0mops\u001b[0m \u001b[0;34m=\u001b[0m \u001b[0msynchronizer\u001b[0m\u001b[0;34m.\u001b[0m\u001b[0msynchronize\u001b[0m\u001b[0;34m(\u001b[0m\u001b[0mgitfile\u001b[0m\u001b[0;34m)\u001b[0m\u001b[0;34m\u001b[0m\u001b[0m\n\u001b[1;32m      4\u001b[0m     \u001b[0;32mfor\u001b[0m \u001b[0mop\u001b[0m \u001b[0;32min\u001b[0m \u001b[0mops\u001b[0m\u001b[0;34m:\u001b[0m\u001b[0;34m\u001b[0m\u001b[0m\n\u001b[0;32m----> 5\u001b[0;31m         \u001b[0mop\u001b[0m\u001b[0;34m.\u001b[0m\u001b[0mexecute\u001b[0m\u001b[0;34m(\u001b[0m\u001b[0madapter\u001b[0m\u001b[0;34m)\u001b[0m\u001b[0;34m\u001b[0m\u001b[0m\n\u001b[0m",
      "\u001b[0;32m~/Documents/weso/hercules/hercules-sync/hercules_sync/synchronization/operations.py\u001b[0m in \u001b[0;36mexecute\u001b[0;34m(self, triple_store)\u001b[0m\n\u001b[1;32m     40\u001b[0m \u001b[0;32mclass\u001b[0m \u001b[0mAdditionOperation\u001b[0m\u001b[0;34m(\u001b[0m\u001b[0mSyncOperation\u001b[0m\u001b[0;34m)\u001b[0m\u001b[0;34m:\u001b[0m\u001b[0;34m\u001b[0m\u001b[0m\n\u001b[1;32m     41\u001b[0m     \u001b[0;32mdef\u001b[0m \u001b[0mexecute\u001b[0m\u001b[0;34m(\u001b[0m\u001b[0mself\u001b[0m\u001b[0;34m,\u001b[0m \u001b[0mtriple_store\u001b[0m\u001b[0;34m:\u001b[0m \u001b[0mTripleStoreManager\u001b[0m\u001b[0;34m)\u001b[0m \u001b[0;34m->\u001b[0m \u001b[0mModificationResult\u001b[0m\u001b[0;34m:\u001b[0m\u001b[0;34m\u001b[0m\u001b[0m\n\u001b[0;32m---> 42\u001b[0;31m         \u001b[0mtriple_store\u001b[0m\u001b[0;34m.\u001b[0m\u001b[0mcreate_triple\u001b[0m\u001b[0;34m(\u001b[0m\u001b[0mself\u001b[0m\u001b[0;34m.\u001b[0m\u001b[0m_triple_info\u001b[0m\u001b[0;34m)\u001b[0m\u001b[0;34m\u001b[0m\u001b[0m\n\u001b[0m\u001b[1;32m     43\u001b[0m \u001b[0;34m\u001b[0m\u001b[0m\n\u001b[1;32m     44\u001b[0m     \u001b[0;32mdef\u001b[0m \u001b[0m__str__\u001b[0m\u001b[0;34m(\u001b[0m\u001b[0mself\u001b[0m\u001b[0;34m)\u001b[0m\u001b[0;34m:\u001b[0m\u001b[0;34m\u001b[0m\u001b[0m\n",
      "\u001b[0;32m~/Documents/weso/hercules/hercules-sync/hercules_sync/triplestore/wikibase_adapter.py\u001b[0m in \u001b[0;36mcreate_triple\u001b[0;34m(self, triple_info)\u001b[0m\n\u001b[1;32m     54\u001b[0m \u001b[0;34m\u001b[0m\u001b[0m\n\u001b[1;32m     55\u001b[0m         \u001b[0mpredicate\u001b[0m\u001b[0;34m.\u001b[0m\u001b[0metype\u001b[0m \u001b[0;34m=\u001b[0m \u001b[0;34m'property'\u001b[0m\u001b[0;34m\u001b[0m\u001b[0m\n\u001b[0;32m---> 56\u001b[0;31m         \u001b[0mpredicate\u001b[0m\u001b[0;34m.\u001b[0m\u001b[0mid\u001b[0m \u001b[0;34m=\u001b[0m \u001b[0mself\u001b[0m\u001b[0;34m.\u001b[0m\u001b[0m_get_wb_id_of\u001b[0m\u001b[0;34m(\u001b[0m\u001b[0mpredicate\u001b[0m\u001b[0;34m,\u001b[0m \u001b[0mobjct\u001b[0m\u001b[0;34m.\u001b[0m\u001b[0mwdi_dtype\u001b[0m\u001b[0;34m)\u001b[0m\u001b[0;34m\u001b[0m\u001b[0m\n\u001b[0m\u001b[1;32m     57\u001b[0m \u001b[0;34m\u001b[0m\u001b[0m\n\u001b[1;32m     58\u001b[0m         \u001b[0mself\u001b[0m\u001b[0;34m.\u001b[0m\u001b[0m_create_statement\u001b[0m\u001b[0;34m(\u001b[0m\u001b[0msubject\u001b[0m\u001b[0;34m,\u001b[0m \u001b[0mpredicate\u001b[0m\u001b[0;34m,\u001b[0m \u001b[0mobjct\u001b[0m\u001b[0;34m)\u001b[0m\u001b[0;34m\u001b[0m\u001b[0m\n",
      "\u001b[0;32m~/Documents/weso/hercules/hercules-sync/hercules_sync/triplestore/triple_info.py\u001b[0m in \u001b[0;36mwdi_dtype\u001b[0;34m(self)\u001b[0m\n\u001b[1;32m    169\u001b[0m     \u001b[0;34m@\u001b[0m\u001b[0mproperty\u001b[0m\u001b[0;34m\u001b[0m\u001b[0m\n\u001b[1;32m    170\u001b[0m     \u001b[0;32mdef\u001b[0m \u001b[0mwdi_dtype\u001b[0m\u001b[0;34m(\u001b[0m\u001b[0mself\u001b[0m\u001b[0;34m)\u001b[0m \u001b[0;34m->\u001b[0m \u001b[0mstr\u001b[0m\u001b[0;34m:\u001b[0m\u001b[0;34m\u001b[0m\u001b[0m\n\u001b[0;32m--> 171\u001b[0;31m         \u001b[0;32mreturn\u001b[0m \u001b[0mself\u001b[0m\u001b[0;34m.\u001b[0m\u001b[0mwdi_class\u001b[0m\u001b[0;34m.\u001b[0m\u001b[0mDTYPE\u001b[0m\u001b[0;34m\u001b[0m\u001b[0m\n\u001b[0m\u001b[1;32m    172\u001b[0m \u001b[0;34m\u001b[0m\u001b[0m\n\u001b[1;32m    173\u001b[0m     \u001b[0;32mdef\u001b[0m \u001b[0mto_wdi_datatype\u001b[0m\u001b[0;34m(\u001b[0m\u001b[0mself\u001b[0m\u001b[0;34m,\u001b[0m \u001b[0;34m**\u001b[0m\u001b[0mkwargs\u001b[0m\u001b[0;34m)\u001b[0m \u001b[0;34m->\u001b[0m \u001b[0mWDBaseDataType\u001b[0m\u001b[0;34m:\u001b[0m\u001b[0;34m\u001b[0m\u001b[0m\n",
      "\u001b[0;32m~/Documents/weso/hercules/hercules-sync/hercules_sync/triplestore/triple_info.py\u001b[0m in \u001b[0;36mwdi_class\u001b[0;34m(self)\u001b[0m\n\u001b[1;32m    163\u001b[0m             \u001b[0;32mreturn\u001b[0m \u001b[0mWDMonolingualText\u001b[0m\u001b[0;34m\u001b[0m\u001b[0m\n\u001b[1;32m    164\u001b[0m         \u001b[0;32melif\u001b[0m \u001b[0mself\u001b[0m\u001b[0;34m.\u001b[0m\u001b[0mdatatype\u001b[0m\u001b[0;34m:\u001b[0m\u001b[0;34m\u001b[0m\u001b[0m\n\u001b[0;32m--> 165\u001b[0;31m             \u001b[0;32mreturn\u001b[0m \u001b[0mself\u001b[0m\u001b[0;34m.\u001b[0m\u001b[0m_datatype_to_wdiobject\u001b[0m\u001b[0;34m(\u001b[0m\u001b[0mprop_nr\u001b[0m\u001b[0;34m=\u001b[0m\u001b[0;34m-\u001b[0m\u001b[0;36m1\u001b[0m\u001b[0;34m)\u001b[0m\u001b[0;34m.\u001b[0m\u001b[0m__class__\u001b[0m\u001b[0;34m\u001b[0m\u001b[0m\n\u001b[0m\u001b[1;32m    166\u001b[0m         \u001b[0;32melse\u001b[0m\u001b[0;34m:\u001b[0m\u001b[0;34m\u001b[0m\u001b[0m\n\u001b[1;32m    167\u001b[0m             \u001b[0;32mreturn\u001b[0m \u001b[0mWDString\u001b[0m\u001b[0;34m\u001b[0m\u001b[0m\n",
      "\u001b[0;32m~/Documents/weso/hercules/hercules-sync/hercules_sync/triplestore/triple_info.py\u001b[0m in \u001b[0;36m_datatype_to_wdiobject\u001b[0;34m(self, **kwargs)\u001b[0m\n\u001b[1;32m    183\u001b[0m             \u001b[0mlogger\u001b[0m\u001b[0;34m.\u001b[0m\u001b[0mwarning\u001b[0m\u001b[0;34m(\u001b[0m\u001b[0;34m\"Datatype %s is not supported, defaulting to string...\"\u001b[0m\u001b[0;34m,\u001b[0m \u001b[0mself\u001b[0m\u001b[0;34m.\u001b[0m\u001b[0mdatatype\u001b[0m\u001b[0;34m)\u001b[0m\u001b[0;34m\u001b[0m\u001b[0m\n\u001b[1;32m    184\u001b[0m             \u001b[0;32mreturn\u001b[0m \u001b[0mWDString\u001b[0m\u001b[0;34m(\u001b[0m\u001b[0mvalue\u001b[0m\u001b[0;34m=\u001b[0m\u001b[0mself\u001b[0m\u001b[0;34m.\u001b[0m\u001b[0mcontent\u001b[0m\u001b[0;34m,\u001b[0m \u001b[0;34m**\u001b[0m\u001b[0mkwargs\u001b[0m\u001b[0;34m)\u001b[0m\u001b[0;34m\u001b[0m\u001b[0m\n\u001b[0;32m--> 185\u001b[0;31m         \u001b[0;32mreturn\u001b[0m \u001b[0mdatatype2wdiobject\u001b[0m\u001b[0;34m[\u001b[0m\u001b[0mstr\u001b[0m\u001b[0;34m(\u001b[0m\u001b[0mself\u001b[0m\u001b[0;34m.\u001b[0m\u001b[0mdatatype\u001b[0m\u001b[0;34m)\u001b[0m\u001b[0;34m]\u001b[0m\u001b[0;34m(\u001b[0m\u001b[0mself\u001b[0m\u001b[0;34m.\u001b[0m\u001b[0mcontent\u001b[0m\u001b[0;34m,\u001b[0m \u001b[0;34m**\u001b[0m\u001b[0mkwargs\u001b[0m\u001b[0;34m)\u001b[0m\u001b[0;34m\u001b[0m\u001b[0m\n\u001b[0m\u001b[1;32m    186\u001b[0m \u001b[0;34m\u001b[0m\u001b[0m\n\u001b[1;32m    187\u001b[0m     \u001b[0;32mdef\u001b[0m \u001b[0m__eq__\u001b[0m\u001b[0;34m(\u001b[0m\u001b[0mself\u001b[0m\u001b[0;34m,\u001b[0m \u001b[0mother\u001b[0m\u001b[0;34m)\u001b[0m\u001b[0;34m:\u001b[0m\u001b[0;34m\u001b[0m\u001b[0m\n",
      "\u001b[0;32m~/Documents/weso/hercules/hercules-sync/hercules_sync/util/mappings.py\u001b[0m in \u001b[0;36mcreate_geo_coordinate_from\u001b[0;34m(content, **kwargs)\u001b[0m\n\u001b[1;32m      7\u001b[0m \u001b[0;34m\u001b[0m\u001b[0m\n\u001b[1;32m      8\u001b[0m \u001b[0;32mdef\u001b[0m \u001b[0mcreate_geo_coordinate_from\u001b[0m\u001b[0;34m(\u001b[0m\u001b[0mcontent\u001b[0m\u001b[0;34m,\u001b[0m \u001b[0;34m**\u001b[0m\u001b[0mkwargs\u001b[0m\u001b[0;34m)\u001b[0m\u001b[0;34m:\u001b[0m\u001b[0;34m\u001b[0m\u001b[0m\n\u001b[0;32m----> 9\u001b[0;31m     \u001b[0mlatitude\u001b[0m\u001b[0;34m,\u001b[0m \u001b[0mlongitude\u001b[0m \u001b[0;34m=\u001b[0m \u001b[0mcontent\u001b[0m\u001b[0;34m[\u001b[0m\u001b[0;36m5\u001b[0m\u001b[0;34m:\u001b[0m\u001b[0;34m]\u001b[0m\u001b[0;34m.\u001b[0m\u001b[0mstrip\u001b[0m\u001b[0;34m(\u001b[0m\u001b[0;34m'()'\u001b[0m\u001b[0;34m)\u001b[0m\u001b[0;34m.\u001b[0m\u001b[0msplit\u001b[0m\u001b[0;34m(\u001b[0m\u001b[0;34m\" \"\u001b[0m\u001b[0;34m)\u001b[0m\u001b[0;34m\u001b[0m\u001b[0m\n\u001b[0m\u001b[1;32m     10\u001b[0m     \u001b[0mprecision\u001b[0m \u001b[0;34m=\u001b[0m \u001b[0mmax\u001b[0m\u001b[0;34m(\u001b[0m\u001b[0mlatitude\u001b[0m\u001b[0;34m[\u001b[0m\u001b[0;34m:\u001b[0m\u001b[0;34m:\u001b[0m\u001b[0;34m-\u001b[0m\u001b[0;36m1\u001b[0m\u001b[0;34m]\u001b[0m\u001b[0;34m.\u001b[0m\u001b[0mfind\u001b[0m\u001b[0;34m(\u001b[0m\u001b[0;34m'.'\u001b[0m\u001b[0;34m)\u001b[0m\u001b[0;34m,\u001b[0m \u001b[0mlongitude\u001b[0m\u001b[0;34m[\u001b[0m\u001b[0;34m:\u001b[0m\u001b[0;34m:\u001b[0m\u001b[0;34m-\u001b[0m\u001b[0;36m1\u001b[0m\u001b[0;34m]\u001b[0m\u001b[0;34m.\u001b[0m\u001b[0mfind\u001b[0m\u001b[0;34m(\u001b[0m\u001b[0;34m'.'\u001b[0m\u001b[0;34m)\u001b[0m\u001b[0;34m)\u001b[0m\u001b[0;34m\u001b[0m\u001b[0m\n\u001b[1;32m     11\u001b[0m     \u001b[0;32mreturn\u001b[0m \u001b[0mwdi_core\u001b[0m\u001b[0;34m.\u001b[0m\u001b[0mWDGlobeCoordinate\u001b[0m\u001b[0;34m(\u001b[0m\u001b[0mfloat\u001b[0m\u001b[0;34m(\u001b[0m\u001b[0mlatitude\u001b[0m\u001b[0;34m)\u001b[0m\u001b[0;34m,\u001b[0m \u001b[0mfloat\u001b[0m\u001b[0;34m(\u001b[0m\u001b[0mlongitude\u001b[0m\u001b[0;34m)\u001b[0m\u001b[0;34m,\u001b[0m \u001b[0mprecision\u001b[0m\u001b[0;34m,\u001b[0m \u001b[0;34m**\u001b[0m\u001b[0mkwargs\u001b[0m\u001b[0;34m)\u001b[0m\u001b[0;34m\u001b[0m\u001b[0m\n",
      "\u001b[0;31mTypeError\u001b[0m: 'NoneType' object is not subscriptable"
     ]
    }
   ],
   "source": [
    "execute_synchronization(source_content, target_content, synchronizer, adapter)"
   ]
  },
  {
   "cell_type": "markdown",
   "metadata": {},
   "source": [
    "## Removing content"
   ]
  },
  {
   "cell_type": "markdown",
   "metadata": {},
   "source": [
    "Finally, we are going to remove some statements from our entities:\n",
    "* Remove type statement from the ChangedPersonnel entity.\n",
    "* Remove subclassOf statement from the ResearchPersonnel entity.\n",
    "* Remove label @pt from ResearchPersonnel.\n",
    "* Delete authors and authoredBy content."
   ]
  },
  {
   "cell_type": "code",
   "execution_count": 12,
   "metadata": {},
   "outputs": [],
   "source": [
    "source_content = target_content\n",
    "\n",
    "target_content = \"\"\"\n",
    "#################################################################\n",
    "# Example ontology.                                             #\n",
    "# This file is used to test the CI and synchronization systems. #\n",
    "#################################################################\n",
    "\n",
    "@prefix ex: <http://www.semanticweb.org/spitxa/ontologies/2020/1/asio-human-resource#> .\n",
    "@prefix geo: <http://www.opengis.net/ont/geosparql#> .\n",
    "@prefix owl: <http://www.w3.org/2002/07/owl#> .\n",
    "@prefix rdf: <http://www.w3.org/1999/02/22-rdf-syntax-ns#> .\n",
    "@prefix rdfs: <http://www.w3.org/2000/01/rdf-schema#> .\n",
    "@prefix asio: <http://www.asio.es/asioontologies/asio#> .\n",
    "@prefix xsd: <http://www.w3.org/2001/XMLSchema#> .\n",
    "\n",
    "\n",
    "ex:AdministrativePersonnel rdf:type owl:Class ;\n",
    "                           rdfs:subClassOf  ex:HumanResource ;\n",
    "                           owl:disjointWith ex:ChangedPersonnel .\n",
    "\n",
    "ex:HumanResource rdf:type owl:Class .\n",
    "\n",
    "ex:ResearchPersonnel rdf:type owl:Class ;\n",
    "                        rdfs:comment \"Personnel devoted to technical suport.\"@en ;\n",
    "                        rdfs:label \"Personal tècnic\"@ca ,\n",
    "                                   \"Personal técnico\"@es ,\n",
    "                                   \"Personnel technique\"@fr ,\n",
    "                                   \"Technical personnel\"@en .\n",
    "\"\"\""
   ]
  },
  {
   "cell_type": "code",
   "execution_count": 13,
   "metadata": {},
   "outputs": [],
   "source": [
    "execute_synchronization(source_content, target_content, synchronizer, adapter)"
   ]
  },
  {
   "cell_type": "markdown",
   "metadata": {},
   "source": [
    "## Future work"
   ]
  },
  {
   "cell_type": "markdown",
   "metadata": {},
   "source": [
    "For additional information about the work that needs to be done with the synchronization system, please visit: https://github.com/weso/hercules-sync/issues?q=is%3Aopen+is%3Aissue+label%3Awikibase+"
   ]
  }
 ],
 "metadata": {
  "kernelspec": {
   "display_name": "Python 3",
   "language": "python",
   "name": "python3"
  },
  "language_info": {
   "codemirror_mode": {
    "name": "ipython",
    "version": 3
   },
   "file_extension": ".py",
   "mimetype": "text/x-python",
   "name": "python",
   "nbconvert_exporter": "python",
   "pygments_lexer": "ipython3",
   "version": "3.6.5"
  }
 },
 "nbformat": 4,
 "nbformat_minor": 4
}
