{
 "cells": [
  {
   "cell_type": "markdown",
   "metadata": {},
   "source": [
    "# Generate Wikibase URIs"
   ]
  },
  {
   "cell_type": "markdown",
   "metadata": {},
   "source": [
    "This notebook generates the wikibase URIs of the resources in a given ontology. It also serves as an example of how an ontology reasoner is used to infer whether an URI corresponds to a wikibase Item or Property."
   ]
  },
  {
   "cell_type": "code",
   "execution_count": 7,
   "metadata": {},
   "outputs": [
    {
     "name": "stderr",
     "output_type": "stream",
     "text": [
      "INFO:root:Starting logger\n"
     ]
    }
   ],
   "source": [
    "import logging\n",
    "import os\n",
    "import sys\n",
    "\n",
    "# set up module paths for imports\n",
    "module_path = os.path.abspath(os.path.join('..'))\n",
    "hercules_sync_path = os.path.abspath(os.path.join('..', 'hercules_sync'))\n",
    "sys.path.append(module_path)\n",
    "sys.path.append(hercules_sync_path)\n",
    "\n",
    "# start logging system and set logging level\n",
    "logger = logging.getLogger()\n",
    "logger.setLevel(logging.INFO)\n",
    "logging.info(\"Starting logger\")"
   ]
  },
  {
   "cell_type": "markdown",
   "metadata": {},
   "source": [
    "# Loading the ontology"
   ]
  },
  {
   "cell_type": "code",
   "execution_count": 2,
   "metadata": {},
   "outputs": [],
   "source": [
    "ONTOLOGY_LOCATION = 'https://raw.githubusercontent.com/weso/hercules-ontology/master/src/asio-core.ttl'"
   ]
  },
  {
   "cell_type": "code",
   "execution_count": 3,
   "metadata": {},
   "outputs": [],
   "source": [
    "from urllib.request import urlopen\n",
    "\n",
    "onto_content = urlopen(ONTOLOGY_LOCATION).read().decode('utf-8')"
   ]
  },
  {
   "cell_type": "code",
   "execution_count": 4,
   "metadata": {},
   "outputs": [],
   "source": [
    "from rdflib.graph import Graph\n",
    "\n",
    "onto_graph = Graph().parse(format='turtle', data=onto_content)"
   ]
  },
  {
   "cell_type": "markdown",
   "metadata": {},
   "source": [
    "## Obtaining the classes and properties"
   ]
  },
  {
   "cell_type": "code",
   "execution_count": 6,
   "metadata": {},
   "outputs": [
    {
     "name": "stdout",
     "output_type": "stream",
     "text": [
      "----------\n",
      "Reading: '@prefix :  ...'\n",
      ".. trying rdf serialization: <ttl>\n",
      "..... success!\n",
      "----------\n",
      "Loaded 1341 triples.\n",
      "----------\n",
      "RDF sources loaded successfully: 1 of 1.\n",
      "..... 'Data: '@prefix :  ...''\n",
      "----------\n"
     ]
    },
    {
     "name": "stderr",
     "output_type": "stream",
     "text": [
      "Scanning entities...\n",
      "----------\n",
      "Ontologies.........: 1\n",
      "Classes............: 71\n",
      "Properties.........: 48\n",
      "..annotation.......: 3\n",
      "..datatype.........: 6\n",
      "..object...........: 39\n",
      "Concepts (SKOS)....: 0\n",
      "Shapes (SHACL).....: 0\n",
      "----------\n"
     ]
    }
   ],
   "source": [
    "import ontospy\n",
    "\n",
    "model = ontospy.Ontospy(data=onto_content, verbose=True, rdf_format='ttl')"
   ]
  },
  {
   "cell_type": "code",
   "execution_count": 6,
   "metadata": {},
   "outputs": [
    {
     "data": {
      "text/plain": [
       "[<Class *http://www.asio.es/asioontologies/asio#AcademicDegree*>,\n",
       " <Class *http://www.asio.es/asioontologies/asio#AcademicPublication*>,\n",
       " <Class *http://www.asio.es/asioontologies/asio#AdministrativeEntity*>,\n",
       " <Class *http://www.asio.es/asioontologies/asio#AdministrativePersonnel*>,\n",
       " <Class *http://www.asio.es/asioontologies/asio#Article*>]"
      ]
     },
     "execution_count": 6,
     "metadata": {},
     "output_type": "execute_result"
    }
   ],
   "source": [
    "model.all_classes[:5]"
   ]
  },
  {
   "cell_type": "code",
   "execution_count": 16,
   "metadata": {},
   "outputs": [
    {
     "data": {
      "text/plain": [
       "[<Property *http://www.asio.es/asioontologies/asio#Publishes*>,\n",
       " <Property *http://www.asio.es/asioontologies/asio#addresses*>,\n",
       " <Property *http://www.asio.es/asioontologies/asio#advises*>,\n",
       " <Property *http://www.asio.es/asioontologies/asio#atContext*>,\n",
       " <Property *http://www.asio.es/asioontologies/asio#authors*>,\n",
       " <Property *http://www.asio.es/asioontologies/asio#capital*>,\n",
       " <Property *http://www.asio.es/asioontologies/asio#codeOf*>,\n",
       " <Property *http://www.asio.es/asioontologies/asio#country*>,\n",
       " <Property *http://www.asio.es/asioontologies/asio#employs*>,\n",
       " <Property *http://www.asio.es/asioontologies/asio#funds*>,\n",
       " <Property *http://www.asio.es/asioontologies/asio#geo-division*>,\n",
       " <Property *http://www.asio.es/asioontologies/asio#hasCV*>,\n",
       " <Property *http://www.asio.es/asioontologies/asio#hasCode*>,\n",
       " <Property *http://www.asio.es/asioontologies/asio#hasPatent*>,\n",
       " <Property *http://www.asio.es/asioontologies/asio#hasResearchContribution*>,\n",
       " <Property *http://www.asio.es/asioontologies/asio#hasResearchField*>,\n",
       " <Property *http://www.asio.es/asioontologies/asio#hasScientificDomain*>,\n",
       " <Property *http://www.asio.es/asioontologies/asio#hasSealOfQuality*>,\n",
       " <Property *http://www.asio.es/asioontologies/asio#hasTRL*>,\n",
       " <Property *http://www.asio.es/asioontologies/asio#isAdvisedBy*>,\n",
       " <Property *http://www.asio.es/asioontologies/asio#isAuthoredBy*>,\n",
       " <Property *http://www.asio.es/asioontologies/asio#isFundedBy*>,\n",
       " <Property *http://www.asio.es/asioontologies/asio#isMemberOf*>,\n",
       " <Property *http://www.asio.es/asioontologies/asio#participant*>,\n",
       " <Property *http://www.asio.es/asioontologies/asio#participates*>,\n",
       " <Property *http://www.asio.es/asioontologies/asio#personalizes*>,\n",
       " <Property *http://www.asio.es/asioontologies/asio#plays*>,\n",
       " <Property *http://www.asio.es/asioontologies/asio#profiles*>,\n",
       " <Property *http://www.asio.es/asioontologies/asio#publishedBy*>,\n",
       " <Property *http://www.asio.es/asioontologies/asio#requiredFor*>,\n",
       " <Property *http://www.asio.es/asioontologies/asio#requires*>,\n",
       " <Property *http://www.asio.es/asioontologies/asio#researchesIn*>,\n",
       " <Property *http://www.asio.es/asioontologies/asio#specializes*>,\n",
       " <Property *http://www.asio.es/asioontologies/asio#spinsOffFrom*>,\n",
       " <Property *http://www.asio.es/asioontologies/asio#supervised*>,\n",
       " <Property *http://www.asio.es/asioontologies/asio#supervisedBy*>,\n",
       " <Property *http://www.asio.es/asioontologies/asio#utilizes*>,\n",
       " <Property *http://www.asio.es/asioontologies/asio#yields*>,\n",
       " <Property *http://xmlns.com/foaf/0.1/member*>]"
      ]
     },
     "execution_count": 16,
     "metadata": {},
     "output_type": "execute_result"
    }
   ],
   "source": [
    "model.all_properties_object"
   ]
  },
  {
   "cell_type": "code",
   "execution_count": 14,
   "metadata": {},
   "outputs": [
    {
     "data": {
      "text/plain": [
       "ontospy.core.entities.OntoProperty"
      ]
     },
     "execution_count": 14,
     "metadata": {},
     "output_type": "execute_result"
    }
   ],
   "source": [
    "model.all_properties[11].__class__"
   ]
  },
  {
   "cell_type": "code",
   "execution_count": 65,
   "metadata": {},
   "outputs": [
    {
     "data": {
      "text/plain": [
       "list"
      ]
     },
     "execution_count": 65,
     "metadata": {},
     "output_type": "execute_result"
    }
   ],
   "source": [
    "type(model.all_properties)"
   ]
  },
  {
   "cell_type": "code",
   "execution_count": 62,
   "metadata": {},
   "outputs": [],
   "source": [
    "uri_items = map(lambda x: x.uri, model.all_classes)\n",
    "uri_props = map(lambda x: x.uri, model.all_properties)"
   ]
  },
  {
   "cell_type": "code",
   "execution_count": 63,
   "metadata": {},
   "outputs": [],
   "source": [
    "triple = None\n",
    "for el in onto_graph:\n",
    "    triple = el"
   ]
  },
  {
   "cell_type": "code",
   "execution_count": 64,
   "metadata": {},
   "outputs": [
    {
     "data": {
      "text/plain": [
       "True"
      ]
     },
     "execution_count": 64,
     "metadata": {},
     "output_type": "execute_result"
    }
   ],
   "source": [
    "triple[0] in uri_props"
   ]
  },
  {
   "cell_type": "code",
   "execution_count": 52,
   "metadata": {},
   "outputs": [
    {
     "data": {
      "text/plain": [
       "rdflib.term.URIRef('http://www.asio.es/asioontologies/asio#funds')"
      ]
     },
     "execution_count": 52,
     "metadata": {},
     "output_type": "execute_result"
    }
   ],
   "source": [
    "triple[0]"
   ]
  },
  {
   "cell_type": "markdown",
   "metadata": {},
   "source": [
    "## Creating ids for each item and property"
   ]
  },
  {
   "cell_type": "code",
   "execution_count": 25,
   "metadata": {},
   "outputs": [],
   "source": [
    "class WBIdGeneratorMock():\n",
    "    def __init__(self):\n",
    "        self.q_id = 0\n",
    "        self.p_id = 0\n",
    "    \n",
    "    def generate_item_id(self):\n",
    "        self.q_id += 1\n",
    "        return f\"Q{self.q_id}\"\n",
    "    \n",
    "    def generate_prop_id(self):\n",
    "        self.p_id += 1\n",
    "        return f\"P{self.p_id}\"\n"
   ]
  },
  {
   "cell_type": "code",
   "execution_count": 24,
   "metadata": {},
   "outputs": [],
   "source": [
    "from hercules_sync.external.uri_factory_mock import URIFactory\n",
    "\n",
    "factory = URIFactory()\n",
    "factory.reset_factory()"
   ]
  },
  {
   "cell_type": "code",
   "execution_count": null,
   "metadata": {},
   "outputs": [],
   "source": [
    "id_generator = WBIdGeneratorMock()\n",
    "\n",
    "for item in uri_items:\n",
    "    item_id = uri_generator.generate_item_id()\n",
    "    factory.post_uri(item, new_id)\n",
    "\n",
    "for item in uri_props:\n",
    "    prop_id = uri_generator.generate_prop_id()\n",
    "    factory.post_uri(item, prop_id)"
   ]
  },
  {
   "cell_type": "markdown",
   "metadata": {},
   "source": [
    "## Save the mappings"
   ]
  },
  {
   "cell_type": "code",
   "execution_count": null,
   "metadata": {},
   "outputs": [],
   "source": [
    "all_uris = uri_items + uri_props\n",
    "\n"
   ]
  }
 ],
 "metadata": {
  "kernelspec": {
   "display_name": "Python 3",
   "language": "python",
   "name": "python3"
  },
  "language_info": {
   "codemirror_mode": {
    "name": "ipython",
    "version": 3
   },
   "file_extension": ".py",
   "mimetype": "text/x-python",
   "name": "python",
   "nbconvert_exporter": "python",
   "pygments_lexer": "ipython3",
   "version": "3.6.5"
  }
 },
 "nbformat": 4,
 "nbformat_minor": 4
}
