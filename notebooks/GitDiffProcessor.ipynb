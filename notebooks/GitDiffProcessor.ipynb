{
 "cells": [
  {
   "cell_type": "code",
   "execution_count": 4,
   "metadata": {},
   "outputs": [
    {
     "name": "stdout",
     "output_type": "stream",
     "text": [
      "The autoreload extension is already loaded. To reload it, use:\n",
      "  %reload_ext autoreload\n"
     ]
    }
   ],
   "source": [
    "%load_ext autoreload\n",
    "%autoreload"
   ]
  },
  {
   "cell_type": "code",
   "execution_count": 5,
   "metadata": {},
   "outputs": [],
   "source": [
    "from hercules_sync.git import GitPushEventHandler\n",
    "\n",
    "data = {\n",
    "    'before': 'b3936132f9c2cea57c4cd660bae8ce5198af0e3e',\n",
    "    'after': '21f21f600f80972cbb62810a08f8f89b31c1b30c',\n",
    "    'repository': {\n",
    "        'full_name': 'alejgh/neo4j_flights'\n",
    "    }\n",
    "}\n",
    "\n",
    "handler = GitPushEventHandler(data)"
   ]
  },
  {
   "cell_type": "code",
   "execution_count": 6,
   "metadata": {},
   "outputs": [
    {
     "name": "stdout",
     "output_type": "stream",
     "text": [
      "Response:  b'{\"name\":\"main.py\",\"path\":\"simple_demo/scripts/main.py\",\"sha\":\"88bc5b70da4ecb31cc05e27c018518c77c35e85c\",\"size\":2377,\"url\":\"https://api.github.com/repos/alejgh/neo4j_flights/contents/simple_demo/scripts/main.py?ref=b3936132f9c2cea57c4cd660bae8ce5198af0e3e\",\"html_url\":\"https://github.com/alejgh/neo4j_flights/blob/b3936132f9c2cea57c4cd660bae8ce5198af0e3e/simple_demo/scripts/main.py\",\"git_url\":\"https://api.github.com/repos/alejgh/neo4j_flights/git/blobs/88bc5b70da4ecb31cc05e27c018518c77c35e85c\",\"download_url\":\"https://raw.githubusercontent.com/alejgh/neo4j_flights/b3936132f9c2cea57c4cd660bae8ce5198af0e3e/simple_demo/scripts/main.py\",\"type\":\"file\",\"content\":\"IyEvdXNyL2Jpbi9lbnYgcHl0aG9uMwoKaW1wb3J0IGFyZ3BhcnNlCmltcG9y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\\\\nZiBfX25hbWVfXyA9PSAnX19tYWluX18nOgogICAgbWFpbigpCg==\\\\n\",\"encoding\":\"base64\",\"_links\":{\"self\":\"https://api.github.com/repos/alejgh/neo4j_flights/contents/simple_demo/scripts/main.py?ref=b3936132f9c2cea57c4cd660bae8ce5198af0e3e\",\"git\":\"https://api.github.com/repos/alejgh/neo4j_flights/git/blobs/88bc5b70da4ecb31cc05e27c018518c77c35e85c\",\"html\":\"https://github.com/alejgh/neo4j_flights/blob/b3936132f9c2cea57c4cd660bae8ce5198af0e3e/simple_demo/scripts/main.py\"}}'\n",
      "Content:  {'name': 'main.py', 'path': 'simple_demo/scripts/main.py', 'sha': '88bc5b70da4ecb31cc05e27c018518c77c35e85c', 'size': 2377, 'url': 'https://api.github.com/repos/alejgh/neo4j_flights/contents/simple_demo/scripts/main.py?ref=b3936132f9c2cea57c4cd660bae8ce5198af0e3e', 'html_url': 'https://github.com/alejgh/neo4j_flights/blob/b3936132f9c2cea57c4cd660bae8ce5198af0e3e/simple_demo/scripts/main.py', 'git_url': 'https://api.github.com/repos/alejgh/neo4j_flights/git/blobs/88bc5b70da4ecb31cc05e27c018518c77c35e85c', 'download_url': 'https://raw.githubusercontent.com/alejgh/neo4j_flights/b3936132f9c2cea57c4cd660bae8ce5198af0e3e/simple_demo/scripts/main.py', 'type': 'file', 'content': 'IyEvdXNyL2Jpbi9lbnYgcHl0aG9uMwoKaW1wb3J0IGFyZ3BhcnNlCmltcG9y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\\nZiBfX25hbWVfXyA9PSAnX19tYWluX18nOgogICAgbWFpbigpCg==\\n', 'encoding': 'base64', '_links': {'self': 'https://api.github.com/repos/alejgh/neo4j_flights/contents/simple_demo/scripts/main.py?ref=b3936132f9c2cea57c4cd660bae8ce5198af0e3e', 'git': 'https://api.github.com/repos/alejgh/neo4j_flights/git/blobs/88bc5b70da4ecb31cc05e27c018518c77c35e85c', 'html': 'https://github.com/alejgh/neo4j_flights/blob/b3936132f9c2cea57c4cd660bae8ce5198af0e3e/simple_demo/scripts/main.py'}}\n",
      "Response:  b'{\"name\":\"main.py\",\"path\":\"simple_demo/scripts/main.py\",\"sha\":\"37f73ba197e3955cb99a2245a902fa4d122aeccb\",\"size\":2553,\"url\":\"https://api.github.com/repos/alejgh/neo4j_flights/contents/simple_demo/scripts/main.py?ref=21f21f600f80972cbb62810a08f8f89b31c1b30c\",\"html_url\":\"https://github.com/alejgh/neo4j_flights/blob/21f21f600f80972cbb62810a08f8f89b31c1b30c/simple_demo/scripts/main.py\",\"git_url\":\"https://api.github.com/repos/alejgh/neo4j_flights/git/blobs/37f73ba197e3955cb99a2245a902fa4d122aeccb\",\"download_url\":\"https://raw.githubusercontent.com/alejgh/neo4j_flights/21f21f600f80972cbb62810a08f8f89b31c1b30c/simple_demo/scripts/main.py\",\"type\":\"file\",\"content\":\"IyEvdXNyL2Jpbi9lbnYgcHl0aG9uMwoKaW1wb3J0IGFyZ3BhcnNlCmltcG9y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\\\\nbmFtZV9fID09ICdfX21haW5fXyc6CiAgICBtYWluKCkK\\\\n\",\"encoding\":\"base64\",\"_links\":{\"self\":\"https://api.github.com/repos/alejgh/neo4j_flights/contents/simple_demo/scripts/main.py?ref=21f21f600f80972cbb62810a08f8f89b31c1b30c\",\"git\":\"https://api.github.com/repos/alejgh/neo4j_flights/git/blobs/37f73ba197e3955cb99a2245a902fa4d122aeccb\",\"html\":\"https://github.com/alejgh/neo4j_flights/blob/21f21f600f80972cbb62810a08f8f89b31c1b30c/simple_demo/scripts/main.py\"}}'\n",
      "Content:  {'name': 'main.py', 'path': 'simple_demo/scripts/main.py', 'sha': '37f73ba197e3955cb99a2245a902fa4d122aeccb', 'size': 2553, 'url': 'https://api.github.com/repos/alejgh/neo4j_flights/contents/simple_demo/scripts/main.py?ref=21f21f600f80972cbb62810a08f8f89b31c1b30c', 'html_url': 'https://github.com/alejgh/neo4j_flights/blob/21f21f600f80972cbb62810a08f8f89b31c1b30c/simple_demo/scripts/main.py', 'git_url': 'https://api.github.com/repos/alejgh/neo4j_flights/git/blobs/37f73ba197e3955cb99a2245a902fa4d122aeccb', 'download_url': 'https://raw.githubusercontent.com/alejgh/neo4j_flights/21f21f600f80972cbb62810a08f8f89b31c1b30c/simple_demo/scripts/main.py', 'type': 'file', 'content': 'IyEvdXNyL2Jpbi9lbnYgcHl0aG9uMwoKaW1wb3J0IGFyZ3BhcnNlCmltcG9y\\ndCBnZXRwYXNzCgppbXBvcnQgY29sb3JhbWEgYXMgY2xyCgppbXBvcnQgbmVv\\nNGpfcXVlcmllcwpmcm9tIG5lbzRqX2Nvbm5lY3Rpb24gaW1wb3J0IEZsaWdo\\ndHNDb25uZWN0aW9uCgpleGl0ID0gRmFsc2UKCmluZm9fcXVlcmllcyA9ICIi\\nIkF2YWlsYWJsZSBxdWVyaWVzOgoxLi0gSW5mb3JtYXRpb24gYWJvdXQgZXZl\\ncnkgYWlybGluZSBhbmQgdGhlaXIgY291bnRyeS4KMi4tIFRvcCAxMCBhaXJs\\naW5lcyB0aGF0IHByb3ZpZGUgdGhlIGJpZ2dlc3QgYW1vdW50IG9mIGZsaWdo\\ndHMuCjMuLSBGbGlnaHRzIGZyb20gTWFkcmlkIHRvIExvbmRvbiBvcmRlcmVk\\nIGJ5IGRlcGFydHVyZSBkYXRlLgo0Li0gTnVtYmVyIG9mIGZsaWdodHMgdGhh\\ndCBkZXBhcnQgZnJvbSBldmVyeSBhaXJwb3J0IGVhY2ggZGF5Lgo1Li0gRmxp\\nZ2h0cyBmcm9tIFNwYWluIHRvIHRoZSBVUyBvcmRlcmVkIGJ5IGRlcGFydHVy\\nZSBkYXRlLgo2Li0gTnVtYmVyIG9mIGZsaWdodHMgdGhhdCBkZXBhcnQgZnJv\\nbSBhbmQgYXJyaXZlIHRvIGV2ZXJ5IGFpcnBvcnQgZWFjaCBkYXkuCjcuLSBG\\nbGlnaHRzIGZyb20gTmV3IFlvcmsgdG8gTG9zIEFuZ2VsZXMgdGhlIDh0aCBv\\nZiBOb3ZlbWJlciwgYXMgd2VsbCBhcyB0aGUKYWlybGluZSB0aGF0IHByb3Zp\\nZGVzIGVhY2ggZmxpZ2h0Lgo4Li0gUGF0aHMgdG8gZ28gZnJvbSBHYXR3aWNr\\nIChMb25kb24pIHRvIEluY2hlb24gKFNlb3VsKSB0aGUgOXRoIG9mIE5vdmVt\\nYmVyCmRvaW5nIDIgZmxpZ2h0cyBhdCBtb3N0Lgo5Li0gV2hpY2ggb2YgdGhl\\nIHBhdGhzIGZyb20gcXVlcnkgJzgnIGFycml2ZXMgZWFybGllcj8KMTAuLSBT\\naG9ydGVzdCBwYXRoIGZyb20gTWFkcmlkIHRvIFNlb3VsLiIiIgoKCmRlZiBw\\ncmludF9oZWxwKCk6CiAgICBwcmludCgiSW4gb3JkZXIgdG8gbWFrZSBhIHF1\\nZXJ5IHlvdSBoYXZlIHRvIGludHJvZHVjZSB0aGUgbnVtYmVyIG9mIHRoZSAi\\nCiAgICAgICAgICAicXVlcnkgdGhhdCB5b3Ugd2FudCB0byBtYWtlLlxuSWYg\\neW91IHR5cGUgJ3F1ZXJpZXMnIHlvdSBjYW4gIgogICAgICAgICAgInNlZSBl\\ndmVyeSBxdWVyeSBhdmFpbGFibGUuXG5Zb3UgY2FuIGFsc28gdHlwZSAnZXhp\\ndCcgdG8gc3RvcCAiCiAgICAgICAgICAidGhlIGFwcGxpY2F0aW9uLCBhbmQg\\nJ2hlbHAnIHRvIHNob3cgdGhpcyBtZXNzYWdlIGFnYWluLiIpCgoKZGVmIHBy\\naW50X3F1ZXJpZXMoKToKICAgIHByaW50KGluZm9fcXVlcmllcykKCgpkZWYg\\ncHJvY2Vzc191c2VyX2lucHV0KHVzZXJfaW5wdXQsIGNvbm4pOgogICAgIiIi\\nCiAgICBUaGlzIGZ1bmN0aW9uIGNoZWNrcyBpZiB0aGUgdXNlciBpbnB1dCBp\\ncyBhIGludC4gSWYgaXQgaXMsCiAgICBpdCBjYWxscyB0aGUgY29ycmVzcG9u\\nZGluZyBmdW5jdGlvbiBmcm9tIG5lbzRqX3F1ZXJpZXMuCiAgICBJZiBpdCBp\\nc24ndCBhbiBpbnQKICAgICIiIgogICAgdHJ5OgogICAgICAgIGludCh1c2Vy\\nX2lucHV0KQogICAgICAgIG1ldGhvZCA9IGdldGF0dHIobmVvNGpfcXVlcmll\\ncywgJ3F1ZXJ5JyArIHVzZXJfaW5wdXQpCiAgICAgICAgbWV0aG9kKGNvbm4u\\nc2Vzc2lvbikKICAgIGV4Y2VwdCBWYWx1ZUVycm9yOgogICAgICAgIGlmIHVz\\nZXJfaW5wdXQgPT0gJ3F1ZXJpZXMnOgogICAgICAgICAgICBwcmludF9xdWVy\\naWVzKCkKICAgICAgICBlbGlmIHVzZXJfaW5wdXQgPT0gJ2V4aXQnOgogICAg\\nICAgICAgICBnbG9iYWwgZXhpdAogICAgICAgICAgICBleGl0ID0gVHJ1ZQog\\nICAgICAgIGVsaWYgdXNlcl9pbnB1dCA9PSAnaGVscCc6CiAgICAgICAgICAg\\nIHByaW50X2hlbHAoKQogICAgICAgIGVsc2U6CiAgICAgICAgICAgIHByaW50\\nKCJVbnJlY29nbml6ZWQgaW5wdXQuIikKICAgICAgICAgICAgcHJpbnRfaGVs\\ncCgpCiAgICBleGNlcHQgRXhjZXB0aW9uOgogICAgICAgIHByaW50KCJJbnZh\\nbGlkIHF1ZXJ5IG51bWJlci4iKQoKCmRlZiBtYWluKCk6CiAgICBjbHIuaW5p\\ndCgpCiAgICBwYXJzZXIgPSBhcmdwYXJzZS5Bcmd1bWVudFBhcnNlcigpCiAg\\nICBwYXJzZXIuYWRkX2FyZ3VtZW50KCctLXBvcnQnLCB0eXBlPXN0ciwKICAg\\nICAgICAgICAgICAgICAgICAgICAgaGVscD0ncG9ydCB3aGVyZSBib2x0IGlz\\nIGVuYWJsZWQnLCBkZWZhdWx0PSc3Njg3JykKICAgIGFyZ3MgPSBwYXJzZXIu\\ncGFyc2VfYXJncygpCiAgICB1c2VybmFtZSA9IGlucHV0KCJJbnRyb2R1Y2Ug\\neW91ciBuZW80aiB1c2VybmFtZTogIikKICAgIHBhc3N3b3JkID0gZ2V0cGFz\\ncy5nZXRwYXNzKCJJbnRyb2R1Y2UgeW91ciBwYXNzd29yZDogIikKCiAgICB3\\naXRoIEZsaWdodHNDb25uZWN0aW9uKGFyZ3MucG9ydCwgdXNlcm5hbWUsIHBh\\nc3N3b3JkKSBhcyBjb25uOgogICAgICAgIHByaW50X3F1ZXJpZXMoKQogICAg\\nICAgIHByaW50X2hlbHAoKQogICAgICAgIHdoaWxlIG5vdCBleGl0OgogICAg\\nICAgICAgICB1c2VyX2lucHV0ID0gaW5wdXQoIj4+ICIpCiAgICAgICAgICAg\\nIHByb2Nlc3NfdXNlcl9pbnB1dCh1c2VyX2lucHV0LCBjb25uKQoKCmlmIF9f\\nbmFtZV9fID09ICdfX21haW5fXyc6CiAgICBtYWluKCkK\\n', 'encoding': 'base64', '_links': {'self': 'https://api.github.com/repos/alejgh/neo4j_flights/contents/simple_demo/scripts/main.py?ref=21f21f600f80972cbb62810a08f8f89b31c1b30c', 'git': 'https://api.github.com/repos/alejgh/neo4j_flights/git/blobs/37f73ba197e3955cb99a2245a902fa4d122aeccb', 'html': 'https://github.com/alejgh/neo4j_flights/blob/21f21f600f80972cbb62810a08f8f89b31c1b30c/simple_demo/scripts/main.py'}}\n"
     ]
    },
    {
     "ename": "AttributeError",
     "evalue": "'GitFile' object has no attribute 'file_path'",
     "output_type": "error",
     "traceback": [
      "\u001b[0;31m---------------------------------------------------------------------------\u001b[0m",
      "\u001b[0;31mAttributeError\u001b[0m                            Traceback (most recent call last)",
      "\u001b[0;32m<ipython-input-6-3742c0aa3c46>\u001b[0m in \u001b[0;36m<module>\u001b[0;34m\u001b[0m\n\u001b[1;32m     16\u001b[0m \u001b[0;34m\u001b[0m\u001b[0m\n\u001b[1;32m     17\u001b[0m \u001b[0;32mfor\u001b[0m \u001b[0mfile\u001b[0m \u001b[0;32min\u001b[0m \u001b[0mhandler\u001b[0m\u001b[0;34m.\u001b[0m\u001b[0mmodified_files\u001b[0m\u001b[0;34m:\u001b[0m\u001b[0;34m\u001b[0m\u001b[0m\n\u001b[0;32m---> 18\u001b[0;31m     \u001b[0mprint_file_info\u001b[0m\u001b[0;34m(\u001b[0m\u001b[0mfile\u001b[0m\u001b[0;34m)\u001b[0m\u001b[0;34m\u001b[0m\u001b[0m\n\u001b[0m",
      "\u001b[0;32m<ipython-input-6-3742c0aa3c46>\u001b[0m in \u001b[0;36mprint_file_info\u001b[0;34m(file)\u001b[0m\n\u001b[1;32m      1\u001b[0m \u001b[0;32mdef\u001b[0m \u001b[0mprint_file_info\u001b[0m\u001b[0;34m(\u001b[0m\u001b[0mfile\u001b[0m\u001b[0;34m)\u001b[0m\u001b[0;34m:\u001b[0m\u001b[0;34m\u001b[0m\u001b[0m\n\u001b[1;32m      2\u001b[0m     \u001b[0mseparator\u001b[0m \u001b[0;34m=\u001b[0m \u001b[0;34m'\\n'\u001b[0m \u001b[0;34m+\u001b[0m \u001b[0;34m'-'\u001b[0m \u001b[0;34m*\u001b[0m \u001b[0;36m50\u001b[0m \u001b[0;34m+\u001b[0m \u001b[0;34m'\\n'\u001b[0m\u001b[0;34m\u001b[0m\u001b[0m\n\u001b[0;32m----> 3\u001b[0;31m     \u001b[0mprint\u001b[0m\u001b[0;34m(\u001b[0m\u001b[0;34m\"File: {}\"\u001b[0m\u001b[0;34m.\u001b[0m\u001b[0mformat\u001b[0m\u001b[0;34m(\u001b[0m\u001b[0mfile\u001b[0m\u001b[0;34m.\u001b[0m\u001b[0mfile_path\u001b[0m\u001b[0;34m)\u001b[0m\u001b[0;34m)\u001b[0m\u001b[0;34m\u001b[0m\u001b[0m\n\u001b[0m\u001b[1;32m      4\u001b[0m     \u001b[0mprint\u001b[0m\u001b[0;34m(\u001b[0m\u001b[0mseparator\u001b[0m\u001b[0;34m)\u001b[0m\u001b[0;34m\u001b[0m\u001b[0m\n\u001b[1;32m      5\u001b[0m     \u001b[0mprint\u001b[0m\u001b[0;34m(\u001b[0m\u001b[0;34m\"Original content:\"\u001b[0m\u001b[0;34m)\u001b[0m\u001b[0;34m\u001b[0m\u001b[0m\n",
      "\u001b[0;31mAttributeError\u001b[0m: 'GitFile' object has no attribute 'file_path'"
     ]
    }
   ],
   "source": [
    "def print_file_info(file):\n",
    "    separator = '\\n' + '-' * 50 + '\\n'\n",
    "    print(\"File: {}\".format(file.path))\n",
    "    print(separator)\n",
    "    print(\"Original content:\")\n",
    "    print(file.source_content)\n",
    "    print(separator)\n",
    "    print(\"Final content:\")\n",
    "    print(file.target_content)\n",
    "    print(separator)\n",
    "    print(\"\\nAdded lines:\\n\")\n",
    "    print(file.added_lines())\n",
    "    print(separator)\n",
    "    print(\"\\nRemoved lines:\\n\")\n",
    "    print(file.removed_lines())\n",
    "\n",
    "for file in handler.modified_files:\n",
    "    print_file_info(file)"
   ]
  },
  {
   "cell_type": "code",
   "execution_count": null,
   "metadata": {},
   "outputs": [],
   "source": [
    "files = handler.modified_files()"
   ]
  }
 ],
 "metadata": {
  "kernelspec": {
   "display_name": "Python 3",
   "language": "python",
   "name": "python3"
  },
  "language_info": {
   "codemirror_mode": {
    "name": "ipython",
    "version": 3
   },
   "file_extension": ".py",
   "mimetype": "text/x-python",
   "name": "python",
   "nbconvert_exporter": "python",
   "pygments_lexer": "ipython3",
   "version": "3.6.5"
  }
 },
 "nbformat": 4,
 "nbformat_minor": 4
}
