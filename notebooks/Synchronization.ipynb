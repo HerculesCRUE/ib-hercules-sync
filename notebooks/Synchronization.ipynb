{
 "cells": [
  {
   "cell_type": "markdown",
   "metadata": {},
   "source": [
    "# Synchronization of ontology files"
   ]
  },
  {
   "cell_type": "markdown",
   "metadata": {},
   "source": [
    "## Setup"
   ]
  },
  {
   "cell_type": "code",
   "execution_count": null,
   "metadata": {},
   "outputs": [],
   "source": [
    "import logging\n",
    "import os\n",
    "import sys\n",
    "\n",
    "# set up module paths for imports\n",
    "module_path = os.path.abspath(os.path.join('..'))\n",
    "hercules_sync_path = os.path.abspath(os.path.join('..', 'hercules_sync'))\n",
    "sys.path.append(module_path)\n",
    "sys.path.append(hercules_sync_path)\n",
    "\n",
    "# start logging system and set logging level\n",
    "logger = logging.getLogger()\n",
    "logger.setLevel(logging.INFO)\n",
    "logging.info(\"Starting logger\")"
   ]
  },
  {
   "cell_type": "markdown",
   "metadata": {},
   "source": [
    "## Introduction"
   ]
  },
  {
   "cell_type": "code",
   "execution_count": null,
   "metadata": {},
   "outputs": [],
   "source": [
    "source_content = \"\"\"\n",
    "#################################################################\n",
    "# Example ontology.                                             #\n",
    "# This file is used to test the CI and synchronization systems. #\n",
    "#################################################################\n",
    "\n",
    "@prefix ex: <http://www.semanticweb.org/spitxa/ontologies/2020/1/asio-human-resource#> .\n",
    "@prefix owl: <http://www.w3.org/2002/07/owl#> .\n",
    "@prefix rdf: <http://www.w3.org/1999/02/22-rdf-syntax-ns#> .\n",
    "@prefix rdfs: <http://www.w3.org/2000/01/rdf-schema#> .\n",
    "\n",
    "ex:AdministrativePersonnel rdf:type owl:Class ;\n",
    "                           rdfs:subClassOf  ex:HumanResource ;\n",
    "                           owl:disjointWith ex:ResearchPersonnel ,\n",
    "                                            <http://www.semanticweb.org/spitxa/ontologies/2020/1/asio-human-resource#Research&TeachingPersonnel> .\n",
    "\n",
    "ex:HumanResource rdf:type owl:Class .\n",
    "\n",
    "ex:ResearchPersonnel rdf:type owl:Class ;\n",
    "                     rdfs:subClassOf ex:HumanResource .\n",
    "\"\"\"\n",
    "\n",
    "target_content = \"\"\"\n",
    "#################################################################\n",
    "# Example ontology.                                             #\n",
    "# This file is used to test the CI and synchronization systems. #\n",
    "#################################################################\n",
    "\n",
    "@prefix ex: <http://www.semanticweb.org/spitxa/ontologies/2020/1/asio-human-resource#> .\n",
    "@prefix owl: <http://www.w3.org/2002/07/owl#> .\n",
    "@prefix rdf: <http://www.w3.org/1999/02/22-rdf-syntax-ns#> .\n",
    "@prefix rdfs: <http://www.w3.org/2000/01/rdf-schema#> .\n",
    "@prefix asio: <http://www.asio.es/asioontologies/asio#> .\n",
    "\n",
    "\n",
    "ex:AdministrativePersonnel rdf:type owl:Class ;\n",
    "                           rdfs:subClassOf  ex:HumanResource ;\n",
    "                           owl:disjointWith ex:ChangedPersonnel ,\n",
    "                                            <http://www.semanticweb.org/spitxa/ontologies/2020/1/asio-human-resource#Research&TeachingPersonnel> .\n",
    "\n",
    "ex:HumanResource rdf:type owl:Class .\n",
    "\n",
    "ex:ChangedPersonnel rdf:type owl:Class .\n",
    "\n",
    "asio:TechnicalPersonnel rdf:type owl:Class ;\n",
    "                        rdfs:subClassOf asio:HumanResource ;\n",
    "                        rdfs:comment \"Personnel devoted to technical suport.\"@en ;\n",
    "                        rdfs:label \"Personal tècnic\"@ca-ad ,\n",
    "                                   \"Personal tècnic\"@ca-es ,\n",
    "                                   \"Personal técnico\"@es ,\n",
    "                                   \"Personnel technique\"@fr ,\n",
    "                                   \"Pessoal técnico\"@pt ,\n",
    "                                   12,\n",
    "                                   \"Technical personnel\"@en .\n",
    "\n",
    "\"\"\""
   ]
  },
  {
   "cell_type": "markdown",
   "metadata": {},
   "source": [
    "## Synchronization algorithms"
   ]
  },
  {
   "cell_type": "markdown",
   "metadata": {},
   "source": [
    "### Graph diff"
   ]
  },
  {
   "cell_type": "code",
   "execution_count": null,
   "metadata": {},
   "outputs": [],
   "source": [
    "from rdflib.compare import graph_diff, to_isomorphic\n",
    "from rdflib.graph import Graph\n",
    "\n",
    "\n",
    "source_g = Graph().parse(format='turtle', data=source_content)\n",
    "target_g = Graph().parse(format='turtle', data=target_content)\n",
    "\n",
    "source_g_iso = to_isomorphic(source_g)\n",
    "target_g_iso = to_isomorphic(target_g)\n",
    "\n",
    "in_both, in_first, in_second = graph_diff(source_g_iso, target_g_iso)"
   ]
  },
  {
   "cell_type": "code",
   "execution_count": null,
   "metadata": {},
   "outputs": [],
   "source": [
    "def print_triples(graph):\n",
    "    for triple in graph:\n",
    "        print(triple)\n",
    "        print('-' * 20)\n",
    "    print('\\n')\n",
    "\n",
    "print(\"Triples in both: \")\n",
    "print_triples(in_both)\n",
    "\n",
    "print(\"Removed triples: \")\n",
    "print_triples(in_first)\n",
    "\n",
    "print(\"Added triples: \")\n",
    "print_triples(in_second)"
   ]
  },
  {
   "cell_type": "markdown",
   "metadata": {},
   "source": [
    "## Using hercules_sync"
   ]
  },
  {
   "cell_type": "code",
   "execution_count": 5,
   "metadata": {},
   "outputs": [],
   "source": [
    "from hercules_sync.git import GitFile\n",
    "from hercules_sync.synchronization import GraphDiffSyncAlgorithm, OntologySynchronizer\n",
    "\n",
    "gitfile = GitFile(None, source_content, target_content)\n",
    "algorithm = GraphDiffSyncAlgorithm()\n",
    "synchronizer = OntologySynchronizer(algorithm)"
   ]
  },
  {
   "cell_type": "code",
   "execution_count": 6,
   "metadata": {},
   "outputs": [],
   "source": [
    "ops = algorithm.do_algorithm(gitfile)"
   ]
  },
  {
   "cell_type": "code",
   "execution_count": 7,
   "metadata": {},
   "outputs": [
    {
     "data": {
      "text/plain": [
       "17"
      ]
     },
     "execution_count": 7,
     "metadata": {},
     "output_type": "execute_result"
    }
   ],
   "source": [
    "len(ops)"
   ]
  },
  {
   "cell_type": "code",
   "execution_count": 8,
   "metadata": {},
   "outputs": [
    {
     "data": {
      "text/plain": [
       "'AdditionOperation: URIElement: http://www.asio.es/asioontologies/asio#TechnicalPersonnel - Type: item                  URIElement: http://www.w3.org/2000/01/rdf-schema#label - Type: item                  LiteralElement: 12 - DataType: http://www.w3.org/2001/XMLSchema#integer'"
      ]
     },
     "execution_count": 8,
     "metadata": {},
     "output_type": "execute_result"
    }
   ],
   "source": [
    "str(ops[1])"
   ]
  },
  {
   "cell_type": "code",
   "execution_count": 9,
   "metadata": {},
   "outputs": [],
   "source": [
    "username = \"WikibaseAdmin\"\n",
    "password = \"WikibaseDockerAdminPass\"\n",
    "mediawiki_api_url='http://156.35.94.149:8181/w/api.php'\n",
    "sparql_endpoint_url='http://156.35.94.149:8282/proxy/wdqs/bigdata/namespace/wdq/sparql'"
   ]
  },
  {
   "cell_type": "code",
   "execution_count": 10,
   "metadata": {},
   "outputs": [
    {
     "name": "stdout",
     "output_type": "stream",
     "text": [
      "{}\n"
     ]
    }
   ],
   "source": [
    "from hercules_sync.external.uri_factory_mock import URIFactory\n",
    "\n",
    "factory = URIFactory()\n",
    "factory.reset_factory()"
   ]
  },
  {
   "cell_type": "code",
   "execution_count": 11,
   "metadata": {},
   "outputs": [
    {
     "name": "stdout",
     "output_type": "stream",
     "text": [
      "http://156.35.94.149:8181/w/api.php\n",
      "Successfully logged in as WikibaseAdmin\n"
     ]
    }
   ],
   "source": [
    "from hercules_sync.triplestore import WikibaseAdapter\n",
    "\n",
    "adapter = WikibaseAdapter(mediawiki_api_url, sparql_endpoint_url, username, password)"
   ]
  },
  {
   "cell_type": "code",
   "execution_count": 12,
   "metadata": {},
   "outputs": [
    {
     "data": {
      "text/plain": [
       "'AdditionOperation: URIElement: http://www.asio.es/asioontologies/asio#TechnicalPersonnel - Type: item                  URIElement: http://www.w3.org/2000/01/rdf-schema#comment - Type: item                  LiteralElement: Personnel devoted to technical suport. - Language: en'"
      ]
     },
     "execution_count": 12,
     "metadata": {},
     "output_type": "execute_result"
    }
   ],
   "source": [
    "str(ops[2])"
   ]
  },
  {
   "cell_type": "code",
   "execution_count": 13,
   "metadata": {},
   "outputs": [
    {
     "name": "stderr",
     "output_type": "stream",
     "text": [
      "/Users/laika/Documents/envs/herc_sync/lib/python3.6/site-packages/wikidataintegrator/wdi_core.py:219: UserWarning: Warning: No distinct value properties found\n",
      "Please set P2302 and Q21502410 in your wikibase or set `core_props` manually.\n",
      "Continuing with no core_props\n",
      "  \"Continuing with no core_props\")\n",
      "/Users/laika/Documents/envs/herc_sync/lib/python3.6/site-packages/wikidataintegrator/wdi_core.py:175: UserWarning: mapping relation types are being ignored\n",
      "  warnings.warn(\"mapping relation types are being ignored\")\n"
     ]
    },
    {
     "name": "stdout",
     "output_type": "stream",
     "text": [
      "Error while writing to Wikidata\n"
     ]
    },
    {
     "ename": "WDApiError",
     "evalue": "{'error': {'code': 'failed-save', 'info': 'The save has failed.', 'messages': [{'name': 'wikibase-api-failed-save', 'parameters': [], 'html': {'*': 'The save has failed.'}}, {'name': 'wikibase-validator-label-conflict', 'parameters': ['subClassOf', 'en', '[[Property:P2|P2]]'], 'html': {'*': 'Property <a href=\"/wiki/Property:P2\" title=\"Property:P2\">P2</a> already has label \"subClassOf\" associated with language code en.'}}], '*': 'See http://156.35.94.149:8181/w/api.php for API usage. Subscribe to the mediawiki-api-announce mailing list at &lt;https://lists.wikimedia.org/mailman/listinfo/mediawiki-api-announce&gt; for notice of API deprecations and breaking changes.'}}",
     "output_type": "error",
     "traceback": [
      "\u001b[0;31m---------------------------------------------------------------------------\u001b[0m",
      "\u001b[0;31mWDApiError\u001b[0m                                Traceback (most recent call last)",
      "\u001b[0;32m<ipython-input-13-9f789d42d9ee>\u001b[0m in \u001b[0;36m<module>\u001b[0;34m\u001b[0m\n\u001b[1;32m      1\u001b[0m \u001b[0;32mfor\u001b[0m \u001b[0mop\u001b[0m \u001b[0;32min\u001b[0m \u001b[0mops\u001b[0m\u001b[0;34m:\u001b[0m\u001b[0;34m\u001b[0m\u001b[0m\n\u001b[0;32m----> 2\u001b[0;31m     \u001b[0mop\u001b[0m\u001b[0;34m.\u001b[0m\u001b[0mexecute\u001b[0m\u001b[0;34m(\u001b[0m\u001b[0madapter\u001b[0m\u001b[0;34m)\u001b[0m\u001b[0;34m\u001b[0m\u001b[0m\n\u001b[0m",
      "\u001b[0;32m~/Documents/weso/hercules/hercules-sync/hercules_sync/synchronization/operations.py\u001b[0m in \u001b[0;36mexecute\u001b[0;34m(self, triple_store)\u001b[0m\n\u001b[1;32m     41\u001b[0m \u001b[0;32mclass\u001b[0m \u001b[0mAdditionOperation\u001b[0m\u001b[0;34m(\u001b[0m\u001b[0mSyncOperation\u001b[0m\u001b[0;34m)\u001b[0m\u001b[0;34m:\u001b[0m\u001b[0;34m\u001b[0m\u001b[0m\n\u001b[1;32m     42\u001b[0m     \u001b[0;32mdef\u001b[0m \u001b[0mexecute\u001b[0m\u001b[0;34m(\u001b[0m\u001b[0mself\u001b[0m\u001b[0;34m,\u001b[0m \u001b[0mtriple_store\u001b[0m\u001b[0;34m:\u001b[0m \u001b[0mTripleStoreManager\u001b[0m\u001b[0;34m)\u001b[0m \u001b[0;34m->\u001b[0m \u001b[0mModificationResult\u001b[0m\u001b[0;34m:\u001b[0m\u001b[0;34m\u001b[0m\u001b[0m\n\u001b[0;32m---> 43\u001b[0;31m         \u001b[0mtriple_store\u001b[0m\u001b[0;34m.\u001b[0m\u001b[0mcreate_triple\u001b[0m\u001b[0;34m(\u001b[0m\u001b[0mself\u001b[0m\u001b[0;34m.\u001b[0m\u001b[0m_triple_info\u001b[0m\u001b[0;34m)\u001b[0m\u001b[0;34m\u001b[0m\u001b[0m\n\u001b[0m\u001b[1;32m     44\u001b[0m \u001b[0;34m\u001b[0m\u001b[0m\n\u001b[1;32m     45\u001b[0m     \u001b[0;32mdef\u001b[0m \u001b[0m__str__\u001b[0m\u001b[0;34m(\u001b[0m\u001b[0mself\u001b[0m\u001b[0;34m)\u001b[0m\u001b[0;34m:\u001b[0m\u001b[0;34m\u001b[0m\u001b[0m\n",
      "\u001b[0;32m~/Documents/weso/hercules/hercules-sync/hercules_sync/triplestore/wikibase_adapter.py\u001b[0m in \u001b[0;36mcreate_triple\u001b[0;34m(self, triple_info)\u001b[0m\n\u001b[1;32m     36\u001b[0m         \u001b[0;31m# predicates always have etype 'property'. maybe move this to reasoner when implemented?\u001b[0m\u001b[0;34m\u001b[0m\u001b[0;34m\u001b[0m\u001b[0m\n\u001b[1;32m     37\u001b[0m         \u001b[0mpredicate\u001b[0m\u001b[0;34m.\u001b[0m\u001b[0metype\u001b[0m \u001b[0;34m=\u001b[0m \u001b[0;34m'property'\u001b[0m\u001b[0;34m\u001b[0m\u001b[0m\n\u001b[0;32m---> 38\u001b[0;31m         \u001b[0mpredicate\u001b[0m\u001b[0;34m.\u001b[0m\u001b[0mid\u001b[0m \u001b[0;34m=\u001b[0m \u001b[0mself\u001b[0m\u001b[0;34m.\u001b[0m\u001b[0m_get_wb_id_of\u001b[0m\u001b[0;34m(\u001b[0m\u001b[0mpredicate\u001b[0m\u001b[0;34m,\u001b[0m \u001b[0mobjct\u001b[0m\u001b[0;34m.\u001b[0m\u001b[0mwdi_dtype\u001b[0m\u001b[0;34m)\u001b[0m\u001b[0;34m\u001b[0m\u001b[0m\n\u001b[0m\u001b[1;32m     39\u001b[0m \u001b[0;34m\u001b[0m\u001b[0m\n\u001b[1;32m     40\u001b[0m         \u001b[0mself\u001b[0m\u001b[0;34m.\u001b[0m\u001b[0m_create_statement\u001b[0m\u001b[0;34m(\u001b[0m\u001b[0msubject\u001b[0m\u001b[0;34m,\u001b[0m \u001b[0mpredicate\u001b[0m\u001b[0;34m,\u001b[0m \u001b[0mobjct\u001b[0m\u001b[0;34m)\u001b[0m\u001b[0;34m\u001b[0m\u001b[0m\n",
      "\u001b[0;32m~/Documents/weso/hercules/hercules-sync/hercules_sync/triplestore/wikibase_adapter.py\u001b[0m in \u001b[0;36m_get_wb_id_of\u001b[0;34m(self, uriref, property_datatype)\u001b[0m\n\u001b[1;32m     81\u001b[0m \u001b[0;34m\u001b[0m\u001b[0m\n\u001b[1;32m     82\u001b[0m         \u001b[0mlogging\u001b[0m\u001b[0;34m.\u001b[0m\u001b[0mdebug\u001b[0m\u001b[0;34m(\u001b[0m\u001b[0;34m\"Entity %s doesn't exist in wikibase. Creating it...\"\u001b[0m\u001b[0;34m,\u001b[0m \u001b[0muriref\u001b[0m\u001b[0;34m)\u001b[0m\u001b[0;34m\u001b[0m\u001b[0m\n\u001b[0;32m---> 83\u001b[0;31m         \u001b[0mentity_id\u001b[0m \u001b[0;34m=\u001b[0m \u001b[0mself\u001b[0m\u001b[0;34m.\u001b[0m\u001b[0m_create_new_wb_item\u001b[0m\u001b[0;34m(\u001b[0m\u001b[0muriref\u001b[0m\u001b[0;34m,\u001b[0m \u001b[0mproperty_datatype\u001b[0m\u001b[0;34m)\u001b[0m\u001b[0;34m\u001b[0m\u001b[0m\n\u001b[0m\u001b[1;32m     84\u001b[0m \u001b[0;34m\u001b[0m\u001b[0m\n\u001b[1;32m     85\u001b[0m         \u001b[0;31m# update uri factory with new item\u001b[0m\u001b[0;34m\u001b[0m\u001b[0;34m\u001b[0m\u001b[0m\n",
      "\u001b[0;32m~/Documents/weso/hercules/hercules-sync/hercules_sync/triplestore/wikibase_adapter.py\u001b[0m in \u001b[0;36m_create_new_wb_item\u001b[0;34m(self, uriref, property_datatype)\u001b[0m\n\u001b[1;32m     96\u001b[0m             \u001b[0mentity\u001b[0m\u001b[0;34m.\u001b[0m\u001b[0mset_label\u001b[0m\u001b[0;34m(\u001b[0m\u001b[0mlabel\u001b[0m\u001b[0;34m)\u001b[0m\u001b[0;34m\u001b[0m\u001b[0m\n\u001b[1;32m     97\u001b[0m         entity_id = entity.write(self._local_login, entity_type=uriref.etype,\n\u001b[0;32m---> 98\u001b[0;31m                                  property_datatype=property_datatype)\n\u001b[0m\u001b[1;32m     99\u001b[0m         \u001b[0;32mreturn\u001b[0m \u001b[0mentity_id\u001b[0m\u001b[0;34m\u001b[0m\u001b[0m\n\u001b[1;32m    100\u001b[0m \u001b[0;34m\u001b[0m\u001b[0m\n",
      "\u001b[0;32m~/Documents/envs/herc_sync/lib/python3.6/site-packages/wikidataintegrator/wdi_core.py\u001b[0m in \u001b[0;36mwrite\u001b[0;34m(self, login, bot_account, edit_summary, entity_type, property_datatype, max_retries, retry_after)\u001b[0m\n\u001b[1;32m    949\u001b[0m                     \u001b[0;32mraise\u001b[0m \u001b[0mNonUniqueLabelDescriptionPairError\u001b[0m\u001b[0;34m(\u001b[0m\u001b[0mjson_data\u001b[0m\u001b[0;34m)\u001b[0m\u001b[0;34m\u001b[0m\u001b[0m\n\u001b[1;32m    950\u001b[0m                 \u001b[0;32melse\u001b[0m\u001b[0;34m:\u001b[0m\u001b[0;34m\u001b[0m\u001b[0m\n\u001b[0;32m--> 951\u001b[0;31m                     \u001b[0;32mraise\u001b[0m \u001b[0mWDApiError\u001b[0m\u001b[0;34m(\u001b[0m\u001b[0mjson_data\u001b[0m\u001b[0;34m)\u001b[0m\u001b[0;34m\u001b[0m\u001b[0m\n\u001b[0m\u001b[1;32m    952\u001b[0m             \u001b[0;32melif\u001b[0m \u001b[0;34m'error'\u001b[0m \u001b[0;32min\u001b[0m \u001b[0mjson_data\u001b[0m\u001b[0;34m.\u001b[0m\u001b[0mkeys\u001b[0m\u001b[0;34m(\u001b[0m\u001b[0;34m)\u001b[0m\u001b[0;34m:\u001b[0m\u001b[0;34m\u001b[0m\u001b[0m\n\u001b[1;32m    953\u001b[0m                 \u001b[0;32mraise\u001b[0m \u001b[0mWDApiError\u001b[0m\u001b[0;34m(\u001b[0m\u001b[0mjson_data\u001b[0m\u001b[0;34m)\u001b[0m\u001b[0;34m\u001b[0m\u001b[0m\n",
      "\u001b[0;31mWDApiError\u001b[0m: {'error': {'code': 'failed-save', 'info': 'The save has failed.', 'messages': [{'name': 'wikibase-api-failed-save', 'parameters': [], 'html': {'*': 'The save has failed.'}}, {'name': 'wikibase-validator-label-conflict', 'parameters': ['subClassOf', 'en', '[[Property:P2|P2]]'], 'html': {'*': 'Property <a href=\"/wiki/Property:P2\" title=\"Property:P2\">P2</a> already has label \"subClassOf\" associated with language code en.'}}], '*': 'See http://156.35.94.149:8181/w/api.php for API usage. Subscribe to the mediawiki-api-announce mailing list at &lt;https://lists.wikimedia.org/mailman/listinfo/mediawiki-api-announce&gt; for notice of API deprecations and breaking changes.'}}"
     ]
    }
   ],
   "source": [
    "for op in ops:\n",
    "    op.execute(adapter)"
   ]
  }
 ],
 "metadata": {
  "kernelspec": {
   "display_name": "Python 3",
   "language": "python",
   "name": "python3"
  },
  "language_info": {
   "codemirror_mode": {
    "name": "ipython",
    "version": 3
   },
   "file_extension": ".py",
   "mimetype": "text/x-python",
   "name": "python",
   "nbconvert_exporter": "python",
   "pygments_lexer": "ipython3",
   "version": "3.6.5"
  }
 },
 "nbformat": 4,
 "nbformat_minor": 4
}
