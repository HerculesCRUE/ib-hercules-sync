{
 "cells": [
  {
   "cell_type": "markdown",
   "metadata": {},
   "source": [
    "# Synchronization of ontology files"
   ]
  },
  {
   "cell_type": "markdown",
   "metadata": {},
   "source": [
    "## Setup"
   ]
  },
  {
   "cell_type": "code",
   "execution_count": 2,
   "metadata": {},
   "outputs": [
    {
     "name": "stderr",
     "output_type": "stream",
     "text": [
      "INFO:root:Starting logger\n"
     ]
    }
   ],
   "source": [
    "import logging\n",
    "import os\n",
    "import sys\n",
    "\n",
    "# set up module paths for imports\n",
    "module_path = os.path.abspath(os.path.join('..'))\n",
    "hercules_sync_path = os.path.abspath(os.path.join('..', 'hercules_sync'))\n",
    "sys.path.append(module_path)\n",
    "sys.path.append(hercules_sync_path)\n",
    "\n",
    "# start logging system and set logging level\n",
    "logger = logging.getLogger()\n",
    "logger.setLevel(logging.INFO)\n",
    "logging.info(\"Starting logger\")"
   ]
  },
  {
   "cell_type": "markdown",
   "metadata": {},
   "source": [
    "## Introduction"
   ]
  },
  {
   "cell_type": "code",
   "execution_count": 3,
   "metadata": {},
   "outputs": [],
   "source": [
    "source_content = \"\"\"\n",
    "#################################################################\n",
    "# Example ontology.                                             #\n",
    "# This file is used to test the CI and synchronization systems. #\n",
    "#################################################################\n",
    "\n",
    "@prefix ex: <http://www.semanticweb.org/spitxa/ontologies/2020/1/asio-human-resource#> .\n",
    "@prefix owl: <http://www.w3.org/2002/07/owl#> .\n",
    "@prefix rdf: <http://www.w3.org/1999/02/22-rdf-syntax-ns#> .\n",
    "@prefix rdfs: <http://www.w3.org/2000/01/rdf-schema#> .\n",
    "\n",
    "ex:AdministrativePersonnel rdf:type owl:Class ;\n",
    "                           rdfs:subClassOf  ex:HumanResource ;\n",
    "                           owl:disjointWith ex:ResearchPersonnel ,\n",
    "                                            <http://www.semanticweb.org/spitxa/ontologies/2020/1/asio-human-resource#Research&TeachingPersonnel> .\n",
    "\n",
    "ex:HumanResource rdf:type owl:Class .\n",
    "\n",
    "ex:ResearchPersonnel rdf:type owl:Class ;\n",
    "                     rdfs:subClassOf ex:HumanResource .\n",
    "\"\"\"\n",
    "\n",
    "target_content = \"\"\"\n",
    "#################################################################\n",
    "# Example ontology.                                             #\n",
    "# This file is used to test the CI and synchronization systems. #\n",
    "#################################################################\n",
    "\n",
    "@prefix ex: <http://www.semanticweb.org/spitxa/ontologies/2020/1/asio-human-resource#> .\n",
    "@prefix owl: <http://www.w3.org/2002/07/owl#> .\n",
    "@prefix rdf: <http://www.w3.org/1999/02/22-rdf-syntax-ns#> .\n",
    "@prefix rdfs: <http://www.w3.org/2000/01/rdf-schema#> .\n",
    "@prefix asio: <http://www.asio.es/asioontologies/asio#> .\n",
    "\n",
    "\n",
    "ex:AdministrativePersonnel rdf:type owl:Class ;\n",
    "                           rdfs:subClassOf  ex:HumanResource ;\n",
    "                           owl:disjointWith ex:ChangedPersonnel ,\n",
    "                                            <http://www.semanticweb.org/spitxa/ontologies/2020/2/asio-human-resource#Research&TeachingPersonnel> .\n",
    "\n",
    "ex:HumanResource rdf:type owl:Class .\n",
    "\n",
    "ex:ChangedPersonnel rdf:type owl:Class .\n",
    "\n",
    "asio:TechnicalPersonnel rdf:type owl:Class ;\n",
    "                        rdfs:subClassOf asio:HumanResource ;\n",
    "                        rdfs:comment \"Personnel devoted to technical suport.\"@en ;\n",
    "                        rdfs:label \"Personal tècnic\"@ca-ad ,\n",
    "                                   \"Personal tècnic\"@ca-es ,\n",
    "                                   \"Personal técnico\"@es ,\n",
    "                                   \"Personnel technique\"@fr ,\n",
    "                                   \"Pessoal técnico\"@pt ,\n",
    "                                   12,\n",
    "                                   \"Technical personnel\"@en .\n",
    "\n",
    "\"\"\""
   ]
  },
  {
   "cell_type": "markdown",
   "metadata": {},
   "source": [
    "## Synchronization algorithms"
   ]
  },
  {
   "cell_type": "markdown",
   "metadata": {},
   "source": [
    "### Graph diff"
   ]
  },
  {
   "cell_type": "code",
   "execution_count": 4,
   "metadata": {},
   "outputs": [],
   "source": [
    "from rdflib.compare import graph_diff, to_isomorphic\n",
    "from rdflib.graph import Graph\n",
    "\n",
    "\n",
    "source_g = Graph().parse(format='turtle', data=source_content)\n",
    "target_g = Graph().parse(format='turtle', data=target_content)\n",
    "\n",
    "source_g_iso = to_isomorphic(source_g)\n",
    "target_g_iso = to_isomorphic(target_g)\n",
    "\n",
    "in_both, in_first, in_second = graph_diff(source_g_iso, target_g_iso)"
   ]
  },
  {
   "cell_type": "code",
   "execution_count": 5,
   "metadata": {},
   "outputs": [
    {
     "name": "stdout",
     "output_type": "stream",
     "text": [
      "Triples in both: \n",
      "(rdflib.term.URIRef('http://www.semanticweb.org/spitxa/ontologies/2020/1/asio-human-resource#AdministrativePersonnel'), rdflib.term.URIRef('http://www.w3.org/1999/02/22-rdf-syntax-ns#type'), rdflib.term.URIRef('http://www.w3.org/2002/07/owl#Class'))\n",
      "--------------------\n",
      "(rdflib.term.URIRef('http://www.semanticweb.org/spitxa/ontologies/2020/1/asio-human-resource#AdministrativePersonnel'), rdflib.term.URIRef('http://www.w3.org/2000/01/rdf-schema#subClassOf'), rdflib.term.URIRef('http://www.semanticweb.org/spitxa/ontologies/2020/1/asio-human-resource#HumanResource'))\n",
      "--------------------\n",
      "(rdflib.term.URIRef('http://www.semanticweb.org/spitxa/ontologies/2020/1/asio-human-resource#HumanResource'), rdflib.term.URIRef('http://www.w3.org/1999/02/22-rdf-syntax-ns#type'), rdflib.term.URIRef('http://www.w3.org/2002/07/owl#Class'))\n",
      "--------------------\n",
      "\n",
      "\n",
      "Removed triples: \n",
      "(rdflib.term.URIRef('http://www.semanticweb.org/spitxa/ontologies/2020/1/asio-human-resource#ResearchPersonnel'), rdflib.term.URIRef('http://www.w3.org/1999/02/22-rdf-syntax-ns#type'), rdflib.term.URIRef('http://www.w3.org/2002/07/owl#Class'))\n",
      "--------------------\n",
      "(rdflib.term.URIRef('http://www.semanticweb.org/spitxa/ontologies/2020/1/asio-human-resource#AdministrativePersonnel'), rdflib.term.URIRef('http://www.w3.org/2002/07/owl#disjointWith'), rdflib.term.URIRef('http://www.semanticweb.org/spitxa/ontologies/2020/1/asio-human-resource#Research&TeachingPersonnel'))\n",
      "--------------------\n",
      "(rdflib.term.URIRef('http://www.semanticweb.org/spitxa/ontologies/2020/1/asio-human-resource#AdministrativePersonnel'), rdflib.term.URIRef('http://www.w3.org/2002/07/owl#disjointWith'), rdflib.term.URIRef('http://www.semanticweb.org/spitxa/ontologies/2020/1/asio-human-resource#ResearchPersonnel'))\n",
      "--------------------\n",
      "(rdflib.term.URIRef('http://www.semanticweb.org/spitxa/ontologies/2020/1/asio-human-resource#ResearchPersonnel'), rdflib.term.URIRef('http://www.w3.org/2000/01/rdf-schema#subClassOf'), rdflib.term.URIRef('http://www.semanticweb.org/spitxa/ontologies/2020/1/asio-human-resource#HumanResource'))\n",
      "--------------------\n",
      "\n",
      "\n",
      "Added triples: \n",
      "(rdflib.term.URIRef('http://www.asio.es/asioontologies/asio#TechnicalPersonnel'), rdflib.term.URIRef('http://www.w3.org/1999/02/22-rdf-syntax-ns#type'), rdflib.term.URIRef('http://www.w3.org/2002/07/owl#Class'))\n",
      "--------------------\n",
      "(rdflib.term.URIRef('http://www.semanticweb.org/spitxa/ontologies/2020/1/asio-human-resource#ChangedPersonnel'), rdflib.term.URIRef('http://www.w3.org/1999/02/22-rdf-syntax-ns#type'), rdflib.term.URIRef('http://www.w3.org/2002/07/owl#Class'))\n",
      "--------------------\n",
      "(rdflib.term.URIRef('http://www.asio.es/asioontologies/asio#TechnicalPersonnel'), rdflib.term.URIRef('http://www.w3.org/2000/01/rdf-schema#label'), rdflib.term.Literal('12', datatype=rdflib.term.URIRef('http://www.w3.org/2001/XMLSchema#integer')))\n",
      "--------------------\n",
      "(rdflib.term.URIRef('http://www.asio.es/asioontologies/asio#TechnicalPersonnel'), rdflib.term.URIRef('http://www.w3.org/2000/01/rdf-schema#label'), rdflib.term.Literal('Personal tècnic', lang='ca-ad'))\n",
      "--------------------\n",
      "(rdflib.term.URIRef('http://www.semanticweb.org/spitxa/ontologies/2020/1/asio-human-resource#AdministrativePersonnel'), rdflib.term.URIRef('http://www.w3.org/2002/07/owl#disjointWith'), rdflib.term.URIRef('http://www.semanticweb.org/spitxa/ontologies/2020/2/asio-human-resource#Research&TeachingPersonnel'))\n",
      "--------------------\n",
      "(rdflib.term.URIRef('http://www.asio.es/asioontologies/asio#TechnicalPersonnel'), rdflib.term.URIRef('http://www.w3.org/2000/01/rdf-schema#comment'), rdflib.term.Literal('Personnel devoted to technical suport.', lang='en'))\n",
      "--------------------\n",
      "(rdflib.term.URIRef('http://www.asio.es/asioontologies/asio#TechnicalPersonnel'), rdflib.term.URIRef('http://www.w3.org/2000/01/rdf-schema#label'), rdflib.term.Literal('Personal técnico', lang='es'))\n",
      "--------------------\n",
      "(rdflib.term.URIRef('http://www.asio.es/asioontologies/asio#TechnicalPersonnel'), rdflib.term.URIRef('http://www.w3.org/2000/01/rdf-schema#label'), rdflib.term.Literal('Technical personnel'))\n",
      "--------------------\n",
      "(rdflib.term.URIRef('http://www.asio.es/asioontologies/asio#TechnicalPersonnel'), rdflib.term.URIRef('http://www.w3.org/2000/01/rdf-schema#label'), rdflib.term.Literal('Personal tècnic', lang='ca-es'))\n",
      "--------------------\n",
      "(rdflib.term.URIRef('http://www.asio.es/asioontologies/asio#TechnicalPersonnel'), rdflib.term.URIRef('http://www.w3.org/2000/01/rdf-schema#label'), rdflib.term.Literal('Personnel technique', lang='fr'))\n",
      "--------------------\n",
      "(rdflib.term.URIRef('http://www.asio.es/asioontologies/asio#TechnicalPersonnel'), rdflib.term.URIRef('http://www.w3.org/2000/01/rdf-schema#subClassOf'), rdflib.term.URIRef('http://www.asio.es/asioontologies/asio#HumanResource'))\n",
      "--------------------\n",
      "(rdflib.term.URIRef('http://www.asio.es/asioontologies/asio#TechnicalPersonnel'), rdflib.term.URIRef('http://www.w3.org/2000/01/rdf-schema#label'), rdflib.term.Literal('Pessoal técnico', lang='pt'))\n",
      "--------------------\n",
      "(rdflib.term.URIRef('http://www.semanticweb.org/spitxa/ontologies/2020/1/asio-human-resource#AdministrativePersonnel'), rdflib.term.URIRef('http://www.w3.org/2002/07/owl#disjointWith'), rdflib.term.URIRef('http://www.semanticweb.org/spitxa/ontologies/2020/1/asio-human-resource#ChangedPersonnel'))\n",
      "--------------------\n",
      "\n",
      "\n"
     ]
    }
   ],
   "source": [
    "def print_triples(graph):\n",
    "    for triple in graph:\n",
    "        print(triple)\n",
    "        print('-' * 20)\n",
    "    print('\\n')\n",
    "\n",
    "print(\"Triples in both: \")\n",
    "print_triples(in_both)\n",
    "\n",
    "print(\"Removed triples: \")\n",
    "print_triples(in_first)\n",
    "\n",
    "print(\"Added triples: \")\n",
    "print_triples(in_second)"
   ]
  },
  {
   "cell_type": "code",
   "execution_count": 13,
   "metadata": {},
   "outputs": [
    {
     "name": "stdout",
     "output_type": "stream",
     "text": [
      "http://www.w3.org/2001/XMLSchema#integer\n",
      "None\n",
      "None\n",
      "None\n",
      "None\n",
      "None\n",
      "None\n",
      "None\n"
     ]
    }
   ],
   "source": [
    "import rdflib\n",
    "\n",
    "for triple in in_second:\n",
    "    if isinstance(triple[2], rdflib.term.Literal):\n",
    "        print(triple[2].datatype)"
   ]
  },
  {
   "cell_type": "markdown",
   "metadata": {},
   "source": [
    "## Using hercules_sync"
   ]
  },
  {
   "cell_type": "code",
   "execution_count": 5,
   "metadata": {},
   "outputs": [],
   "source": [
    "from hercules_sync.git import GitFile\n",
    "from hercules_sync.synchronization import GraphDiffSyncAlgorithm, OntologySynchronizer\n",
    "\n",
    "gitfile = GitFile(None, source_content, target_content)\n",
    "algorithm = GraphDiffSyncAlgorithm()\n",
    "synchronizer = OntologySynchronizer(algorithm)"
   ]
  },
  {
   "cell_type": "code",
   "execution_count": 6,
   "metadata": {},
   "outputs": [],
   "source": [
    "ops = algorithm.do_algorithm(gitfile)"
   ]
  },
  {
   "cell_type": "code",
   "execution_count": 7,
   "metadata": {},
   "outputs": [
    {
     "data": {
      "text/plain": [
       "17"
      ]
     },
     "execution_count": 7,
     "metadata": {},
     "output_type": "execute_result"
    }
   ],
   "source": [
    "len(ops)"
   ]
  },
  {
   "cell_type": "code",
   "execution_count": 8,
   "metadata": {},
   "outputs": [
    {
     "data": {
      "text/plain": [
       "'AdditionOperation: http://www.asio.es/asioontologies/asio#TechnicalPersonnel                  http://www.w3.org/2000/01/rdf-schema#label                  Personal tècnic'"
      ]
     },
     "execution_count": 8,
     "metadata": {},
     "output_type": "execute_result"
    }
   ],
   "source": [
    "str(ops[1])"
   ]
  },
  {
   "cell_type": "code",
   "execution_count": 9,
   "metadata": {},
   "outputs": [],
   "source": [
    "username = \"WikibaseAdmin\"\n",
    "password = \"WikibaseDockerAdminPass\"\n",
    "mediawiki_api_url='http://156.35.94.149:8181/w/api.php'\n",
    "sparql_endpoint_url='http://156.35.94.149:8282/proxy/wdqs/bigdata/namespace/wdq/sparql'"
   ]
  },
  {
   "cell_type": "code",
   "execution_count": 10,
   "metadata": {},
   "outputs": [
    {
     "name": "stdout",
     "output_type": "stream",
     "text": [
      "http://156.35.94.149:8181/w/api.php\n",
      "Successfully logged in as WikibaseAdmin\n"
     ]
    }
   ],
   "source": [
    "from hercules_sync.triplestore import WikibaseAdapter\n",
    "\n",
    "adapter = WikibaseAdapter(mediawiki_api_url, sparql_endpoint_url, username, password)"
   ]
  },
  {
   "cell_type": "code",
   "execution_count": 11,
   "metadata": {},
   "outputs": [
    {
     "data": {
      "text/plain": [
       "'AdditionOperation: http://www.asio.es/asioontologies/asio#TechnicalPersonnel                  http://www.w3.org/2000/01/rdf-schema#label                  Personal tècnic'"
      ]
     },
     "execution_count": 11,
     "metadata": {},
     "output_type": "execute_result"
    }
   ],
   "source": [
    "str(ops[1])"
   ]
  },
  {
   "cell_type": "code",
   "execution_count": 12,
   "metadata": {},
   "outputs": [
    {
     "name": "stdout",
     "output_type": "stream",
     "text": [
      "{rdflib.term.URIRef('http://www.w3.org/1999/02/22-rdf-syntax-ns#type'): 'P1', rdflib.term.URIRef('http://www.semanticweb.org/spitxa/ontologies/2020/1/asio-human-resource#ResearchPersonnel'): 'Q1', rdflib.term.URIRef('http://www.w3.org/2002/07/owl#Class'): 'Q2', rdflib.term.URIRef('http://www.w3.org/2000/01/rdf-schema#subClassOf'): 'P2', rdflib.term.URIRef('http://www.semanticweb.org/spitxa/ontologies/2020/1/asio-human-resource#HumanResource'): 'Q3', rdflib.term.URIRef('http://www.w3.org/2002/07/owl#disjointWith'): 'P3', rdflib.term.URIRef('http://www.semanticweb.org/spitxa/ontologies/2020/1/asio-human-resource#AdministrativePersonnel'): 'Q4', rdflib.term.URIRef('http://www.semanticweb.org/spitxa/ontologies/2020/1/asio-human-resource#ChangedPersonnel'): 'Q5', rdflib.term.URIRef('http://www.w3.org/2000/01/rdf-schema#label'): 'P4', rdflib.term.URIRef('http://www.asio.es/asioontologies/asio#TechnicalPersonnel'): 'Q6', rdflib.term.Literal('12', datatype=rdflib.term.URIRef('http://www.w3.org/2001/XMLSchema#integer')): 'Q7'}\n"
     ]
    },
    {
     "name": "stderr",
     "output_type": "stream",
     "text": [
      "/Users/laika/Documents/envs/herc_sync/lib/python3.6/site-packages/wikidataintegrator/wdi_core.py:219: UserWarning: Warning: No distinct value properties found\n",
      "Please set P2302 and Q21502410 in your wikibase or set `core_props` manually.\n",
      "Continuing with no core_props\n",
      "  \"Continuing with no core_props\")\n",
      "/Users/laika/Documents/envs/herc_sync/lib/python3.6/site-packages/wikidataintegrator/wdi_core.py:175: UserWarning: mapping relation types are being ignored\n",
      "  warnings.warn(\"mapping relation types are being ignored\")\n"
     ]
    }
   ],
   "source": [
    "ops[0].execute(adapter)"
   ]
  },
  {
   "cell_type": "code",
   "execution_count": null,
   "metadata": {},
   "outputs": [],
   "source": []
  }
 ],
 "metadata": {
  "kernelspec": {
   "display_name": "Python 3",
   "language": "python",
   "name": "python3"
  },
  "language_info": {
   "codemirror_mode": {
    "name": "ipython",
    "version": 3
   },
   "file_extension": ".py",
   "mimetype": "text/x-python",
   "name": "python",
   "nbconvert_exporter": "python",
   "pygments_lexer": "ipython3",
   "version": "3.6.5"
  }
 },
 "nbformat": 4,
 "nbformat_minor": 4
}
